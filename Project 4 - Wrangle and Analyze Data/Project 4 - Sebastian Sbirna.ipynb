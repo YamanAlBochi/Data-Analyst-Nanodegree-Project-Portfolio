{
 "cells": [
  {
   "cell_type": "markdown",
   "metadata": {},
   "source": [
    "# Project: Data Wrangling and Analysis of Twitter-based content <br> (Udacity - exclusive case study: WeRateDogs archive)\n",
    "\n",
    "### **_by Sebastian Sbirna_**\n",
    "\n",
    "***\n",
    "\n",
    "## Table of Contents\n",
    "- [Introduction of the topic and dataset](#intro)\n",
    "- [Data Wrangling Process](#data-wrangling)\n",
    "    - [Data Gathering Process](#data-gathering)\n",
    "    - [Data Assessing Process](#data-assessing)\n",
    "    - [Data Cleaning Process](#data-cleaning)\n",
    "    - [Data Storing](#data-storing)\n",
    "- [Analysis and Visualisation of Data](#data-analysis)\n",
    "    - [Visualization 1](#viz-1)\n",
    "    - [Visualization 2](#viz-2)\n",
    "    - [Visualization 3](#viz-3)\n",
    "- [Conclusion](#conclusion)\n",
    "\n",
    "---\n",
    "\n",
    "<a id='intro'></a>\n",
    "## Introduction of the topic and dataset\n",
    "\n",
    "Real-world data rarely comes clean. Using Python and its libraries, we gather data from a variety of sources and in a variety of formats, assess its quality and tidiness, then clean it; a process also known as data wrangling.\n",
    "\n",
    "The dataset that we will be wrangling (and analyzing and visualizing) is the tweet archive of Twitter user [@dog_rates](https://twitter.com/dog_rates), also known as [WeRateDogs](https://twitter.com/dog_rates). WeRateDogs is a Twitter account that rates people's dogs with a humorous comment about the dog. These ratings almost always have a denominator of 10. The numerators, though? Almost always greater than 10. 11/10, 12/10, 13/10, etc. Why? Because [\"they're good dogs Brent\"](https://knowyourmeme.com/memes/theyre-good-dogs-brent). WeRateDogs has over 7.5 million followers and has received international media coverage.\n",
    "\n",
    "WeRateDogs downloaded their Twitter archive for Udacity students exclusively to use in this project. This archive contains basic tweet data (tweet ID, timestamp, text, etc.) for all 5000+ of their tweets as they stood on August 1, 2017.\n",
    "\n",
    "---"
   ]
  },
  {
   "cell_type": "markdown",
   "metadata": {},
   "source": [
    "<a id='data-wrangling'></a>\n",
    "## Data Wrangling Process\n",
    "\n",
    "After importing the necessary libraries, we will begin the data wrangling process, which is divided into three major steps:\n",
    "- First, we will gather the necessary data from different file formats and sources, and load it into dataframes\n",
    "- Secondly, we assess the data to find any inaccuracies or errors within the dataframes, both quality-related and tidiness-related\n",
    "- Lastly, we perform cleaning tasks for each of the identified errors, in order to end up with a high-quality, tidy dataset"
   ]
  },
  {
   "cell_type": "code",
   "execution_count": 1,
   "metadata": {},
   "outputs": [],
   "source": [
    "# Importing the necessary libraries\n",
    "import numpy as np\n",
    "import pandas as pd\n",
    "import matplotlib.pyplot as plt\n",
    "import seaborn as sb\n",
    "import re\n",
    "import os\n",
    "import requests as req\n",
    "import json\n",
    "import tweepy\n",
    "import sqlalchemy\n",
    "\n",
    "sb.set()\n",
    "pd.set_option('display.max_colwidth', -1)"
   ]
  },
  {
   "cell_type": "markdown",
   "metadata": {},
   "source": [
    "---\n",
    "<a id='data-gathering'></a>\n",
    "## 1. Data Gathering Process\n",
    "\n",
    "Here we start our wrangling by first extracting the necessary data from its relevant sources. The first source is a file at hand containing most of the variabled related to our dataset of interest. We can import the CSV file into a pandas dataframe, like so:"
   ]
  },
  {
   "cell_type": "code",
   "execution_count": 2,
   "metadata": {},
   "outputs": [],
   "source": [
    "dog_tweets_df = pd.read_csv('twitter-archive-enhanced.csv')"
   ]
  },
  {
   "cell_type": "code",
   "execution_count": 3,
   "metadata": {
    "scrolled": true
   },
   "outputs": [
    {
     "data": {
      "text/html": [
       "<div>\n",
       "<style scoped>\n",
       "    .dataframe tbody tr th:only-of-type {\n",
       "        vertical-align: middle;\n",
       "    }\n",
       "\n",
       "    .dataframe tbody tr th {\n",
       "        vertical-align: top;\n",
       "    }\n",
       "\n",
       "    .dataframe thead th {\n",
       "        text-align: right;\n",
       "    }\n",
       "</style>\n",
       "<table border=\"1\" class=\"dataframe\">\n",
       "  <thead>\n",
       "    <tr style=\"text-align: right;\">\n",
       "      <th></th>\n",
       "      <th>tweet_id</th>\n",
       "      <th>in_reply_to_status_id</th>\n",
       "      <th>in_reply_to_user_id</th>\n",
       "      <th>timestamp</th>\n",
       "      <th>source</th>\n",
       "      <th>text</th>\n",
       "      <th>retweeted_status_id</th>\n",
       "      <th>retweeted_status_user_id</th>\n",
       "      <th>retweeted_status_timestamp</th>\n",
       "      <th>expanded_urls</th>\n",
       "      <th>rating_numerator</th>\n",
       "      <th>rating_denominator</th>\n",
       "      <th>name</th>\n",
       "      <th>doggo</th>\n",
       "      <th>floofer</th>\n",
       "      <th>pupper</th>\n",
       "      <th>puppo</th>\n",
       "    </tr>\n",
       "  </thead>\n",
       "  <tbody>\n",
       "    <tr>\n",
       "      <th>0</th>\n",
       "      <td>892420643555336193</td>\n",
       "      <td>NaN</td>\n",
       "      <td>NaN</td>\n",
       "      <td>2017-08-01 16:23:56 +0000</td>\n",
       "      <td>&lt;a href=\"http://twitter.com/download/iphone\" rel=\"nofollow\"&gt;Twitter for iPhone&lt;/a&gt;</td>\n",
       "      <td>This is Phineas. He's a mystical boy. Only ever appears in the hole of a donut. 13/10 https://t.co/MgUWQ76dJU</td>\n",
       "      <td>NaN</td>\n",
       "      <td>NaN</td>\n",
       "      <td>NaN</td>\n",
       "      <td>https://twitter.com/dog_rates/status/892420643555336193/photo/1</td>\n",
       "      <td>13</td>\n",
       "      <td>10</td>\n",
       "      <td>Phineas</td>\n",
       "      <td>None</td>\n",
       "      <td>None</td>\n",
       "      <td>None</td>\n",
       "      <td>None</td>\n",
       "    </tr>\n",
       "  </tbody>\n",
       "</table>\n",
       "</div>"
      ],
      "text/plain": [
       "             tweet_id  in_reply_to_status_id  in_reply_to_user_id  \\\n",
       "0  892420643555336193 NaN                    NaN                    \n",
       "\n",
       "                   timestamp  \\\n",
       "0  2017-08-01 16:23:56 +0000   \n",
       "\n",
       "                                                                               source  \\\n",
       "0  <a href=\"http://twitter.com/download/iphone\" rel=\"nofollow\">Twitter for iPhone</a>   \n",
       "\n",
       "                                                                                                            text  \\\n",
       "0  This is Phineas. He's a mystical boy. Only ever appears in the hole of a donut. 13/10 https://t.co/MgUWQ76dJU   \n",
       "\n",
       "   retweeted_status_id  retweeted_status_user_id retweeted_status_timestamp  \\\n",
       "0 NaN                  NaN                        NaN                         \n",
       "\n",
       "                                                     expanded_urls  \\\n",
       "0  https://twitter.com/dog_rates/status/892420643555336193/photo/1   \n",
       "\n",
       "   rating_numerator  rating_denominator     name doggo floofer pupper puppo  \n",
       "0  13                10                  Phineas  None  None    None   None  "
      ]
     },
     "execution_count": 3,
     "metadata": {},
     "output_type": "execute_result"
    }
   ],
   "source": [
    "dog_tweets_df.head(1)"
   ]
  },
  {
   "cell_type": "markdown",
   "metadata": {},
   "source": [
    "The next file we will need is found at an internet location on a remote server. We can download it by establishing a connection with the server, request the file, and parse the contents of the server's response to get the needed information:"
   ]
  },
  {
   "cell_type": "code",
   "execution_count": 4,
   "metadata": {},
   "outputs": [],
   "source": [
    "try:\n",
    "    response = req.get('https://d17h27t6h515a5.cloudfront.net/topher/2017/August/599fd2ad_image-predictions/image-predictions.tsv')\n",
    "except Exception as e:\n",
    "    print(e)\n",
    "    \n",
    "with open('image-predictions.tsv', mode = 'wb') as file:\n",
    "    file.write(response.content)\n",
    "\n",
    "image_predictions_df = pd.read_csv('image-predictions.tsv', sep = '\\t')"
   ]
  },
  {
   "cell_type": "code",
   "execution_count": 5,
   "metadata": {
    "scrolled": false
   },
   "outputs": [
    {
     "data": {
      "text/html": [
       "<div>\n",
       "<style scoped>\n",
       "    .dataframe tbody tr th:only-of-type {\n",
       "        vertical-align: middle;\n",
       "    }\n",
       "\n",
       "    .dataframe tbody tr th {\n",
       "        vertical-align: top;\n",
       "    }\n",
       "\n",
       "    .dataframe thead th {\n",
       "        text-align: right;\n",
       "    }\n",
       "</style>\n",
       "<table border=\"1\" class=\"dataframe\">\n",
       "  <thead>\n",
       "    <tr style=\"text-align: right;\">\n",
       "      <th></th>\n",
       "      <th>tweet_id</th>\n",
       "      <th>jpg_url</th>\n",
       "      <th>img_num</th>\n",
       "      <th>p1</th>\n",
       "      <th>p1_conf</th>\n",
       "      <th>p1_dog</th>\n",
       "      <th>p2</th>\n",
       "      <th>p2_conf</th>\n",
       "      <th>p2_dog</th>\n",
       "      <th>p3</th>\n",
       "      <th>p3_conf</th>\n",
       "      <th>p3_dog</th>\n",
       "    </tr>\n",
       "  </thead>\n",
       "  <tbody>\n",
       "    <tr>\n",
       "      <th>0</th>\n",
       "      <td>666020888022790149</td>\n",
       "      <td>https://pbs.twimg.com/media/CT4udn0WwAA0aMy.jpg</td>\n",
       "      <td>1</td>\n",
       "      <td>Welsh_springer_spaniel</td>\n",
       "      <td>0.465074</td>\n",
       "      <td>True</td>\n",
       "      <td>collie</td>\n",
       "      <td>0.156665</td>\n",
       "      <td>True</td>\n",
       "      <td>Shetland_sheepdog</td>\n",
       "      <td>0.061428</td>\n",
       "      <td>True</td>\n",
       "    </tr>\n",
       "  </tbody>\n",
       "</table>\n",
       "</div>"
      ],
      "text/plain": [
       "             tweet_id                                          jpg_url  \\\n",
       "0  666020888022790149  https://pbs.twimg.com/media/CT4udn0WwAA0aMy.jpg   \n",
       "\n",
       "   img_num                      p1   p1_conf  p1_dog      p2   p2_conf  \\\n",
       "0  1        Welsh_springer_spaniel  0.465074  True    collie  0.156665   \n",
       "\n",
       "   p2_dog                 p3   p3_conf  p3_dog  \n",
       "0  True    Shetland_sheepdog  0.061428  True    "
      ]
     },
     "execution_count": 5,
     "metadata": {},
     "output_type": "execute_result"
    }
   ],
   "source": [
    "image_predictions_df.head(1)"
   ]
  },
  {
   "cell_type": "markdown",
   "metadata": {},
   "source": [
    "Lastly here, we will need some additional data about the tweet entries for our analysis, namely the retweet and favorite counts for each entry. Since this isn't pre-included in our CSV dataset, we have to scrape it off using the API that Twitter provides us to access content on their servers. \n",
    "\n",
    "_Unfortunately, at the time of writing for this project, the data able to be retrieved from the Twitter servers for the account WeRateDogs is only available beginning with entries from October 2017 onwards. Since our collection of data in the master CSV file contains entries up until 1st of August 2017, this means that we can no longer use the API to retrieve variables of interest. Fortunately, our instructor created an archive of the extended data of each tweet entry of our project, which he let us use by loading its contents from a TXT file._"
   ]
  },
  {
   "cell_type": "markdown",
   "metadata": {},
   "source": [
    "_Since our `tweet-json.txt` contains a different JSON object on each separate line which must be deserialized, we need to read each JSON object one-by-one, extract the important information  to fulfill the project task, and store this data in a DataFrame._"
   ]
  },
  {
   "cell_type": "code",
   "execution_count": 6,
   "metadata": {
    "scrolled": false
   },
   "outputs": [],
   "source": [
    "tweet_json_data_df = pd.DataFrame(columns = ['tweet_id', 'nr_of_retweets', 'nr_of_favorites'])\n",
    "\n",
    "# open the TXT file programmatically\n",
    "with open('tweet-json.txt') as tweet_file:\n",
    "    for line in tweet_file:\n",
    "        # load its contents line by line, i.e. JSON object by JSON object\n",
    "        tweet = json.loads(line)\n",
    "        if ((tweet['in_reply_to_status_id'] == None) & (tweet['in_reply_to_user_id'] == None)): # if it's not a retweet or reply\n",
    "            id_string = tweet['id_str']\n",
    "            retweet_count = tweet['retweet_count']\n",
    "            favorite_count = tweet['favorite_count']\n",
    "            \n",
    "            # store the additional needed information into a dataframe\n",
    "            tweet_json_data_df = tweet_json_data_df.append({'tweet_id' : id_string,\n",
    "                                                            'nr_of_retweets' : retweet_count,\n",
    "                                                            'nr_of_favorites' : favorite_count}, \n",
    "                                                           ignore_index = True)\n",
    "        else:\n",
    "            continue"
   ]
  },
  {
   "cell_type": "code",
   "execution_count": 7,
   "metadata": {},
   "outputs": [
    {
     "data": {
      "text/html": [
       "<div>\n",
       "<style scoped>\n",
       "    .dataframe tbody tr th:only-of-type {\n",
       "        vertical-align: middle;\n",
       "    }\n",
       "\n",
       "    .dataframe tbody tr th {\n",
       "        vertical-align: top;\n",
       "    }\n",
       "\n",
       "    .dataframe thead th {\n",
       "        text-align: right;\n",
       "    }\n",
       "</style>\n",
       "<table border=\"1\" class=\"dataframe\">\n",
       "  <thead>\n",
       "    <tr style=\"text-align: right;\">\n",
       "      <th></th>\n",
       "      <th>tweet_id</th>\n",
       "      <th>nr_of_retweets</th>\n",
       "      <th>nr_of_favorites</th>\n",
       "    </tr>\n",
       "  </thead>\n",
       "  <tbody>\n",
       "    <tr>\n",
       "      <th>0</th>\n",
       "      <td>892420643555336193</td>\n",
       "      <td>8853</td>\n",
       "      <td>39467</td>\n",
       "    </tr>\n",
       "  </tbody>\n",
       "</table>\n",
       "</div>"
      ],
      "text/plain": [
       "             tweet_id nr_of_retweets nr_of_favorites\n",
       "0  892420643555336193  8853           39467         "
      ]
     },
     "execution_count": 7,
     "metadata": {},
     "output_type": "execute_result"
    }
   ],
   "source": [
    "tweet_json_data_df.head(1)"
   ]
  },
  {
   "cell_type": "markdown",
   "metadata": {},
   "source": [
    "Now all of the data needed has been gathered from all its necessary files, and we are ready to begin assessing it."
   ]
  },
  {
   "cell_type": "markdown",
   "metadata": {},
   "source": [
    "---\n",
    "<a id='data-assessing'></a>\n",
    "## 2. Data Assessing\n",
    "\n",
    "Data assessment is needed to be thorougly performed, in order to discover any inconsistencies or imperfections in the data and correct them, before we actually being working on the analysis of the datasets. We will first assess the data visually, in order to both understand its structure and contents, and also to spot any obvious errors. Subsequently, we will continue to programmatically assess all three datasets for a deeper and more reliable investigation on the potential data quality and data tidiness errors.\n",
    "\n",
    "### Visual Assessment"
   ]
  },
  {
   "cell_type": "code",
   "execution_count": 8,
   "metadata": {
    "scrolled": false
   },
   "outputs": [
    {
     "data": {
      "text/html": [
       "<div>\n",
       "<style scoped>\n",
       "    .dataframe tbody tr th:only-of-type {\n",
       "        vertical-align: middle;\n",
       "    }\n",
       "\n",
       "    .dataframe tbody tr th {\n",
       "        vertical-align: top;\n",
       "    }\n",
       "\n",
       "    .dataframe thead th {\n",
       "        text-align: right;\n",
       "    }\n",
       "</style>\n",
       "<table border=\"1\" class=\"dataframe\">\n",
       "  <thead>\n",
       "    <tr style=\"text-align: right;\">\n",
       "      <th></th>\n",
       "      <th>tweet_id</th>\n",
       "      <th>in_reply_to_status_id</th>\n",
       "      <th>in_reply_to_user_id</th>\n",
       "      <th>timestamp</th>\n",
       "      <th>source</th>\n",
       "      <th>text</th>\n",
       "      <th>retweeted_status_id</th>\n",
       "      <th>retweeted_status_user_id</th>\n",
       "      <th>retweeted_status_timestamp</th>\n",
       "      <th>expanded_urls</th>\n",
       "      <th>rating_numerator</th>\n",
       "      <th>rating_denominator</th>\n",
       "      <th>name</th>\n",
       "      <th>doggo</th>\n",
       "      <th>floofer</th>\n",
       "      <th>pupper</th>\n",
       "      <th>puppo</th>\n",
       "    </tr>\n",
       "  </thead>\n",
       "  <tbody>\n",
       "    <tr>\n",
       "      <th>809</th>\n",
       "      <td>771500966810099713</td>\n",
       "      <td>NaN</td>\n",
       "      <td>NaN</td>\n",
       "      <td>2016-09-02 00:12:18 +0000</td>\n",
       "      <td>&lt;a href=\"http://twitter.com/download/iphone\" rel=\"nofollow\"&gt;Twitter for iPhone&lt;/a&gt;</td>\n",
       "      <td>This is Dakota. He's just saying hi. That's all. 12/10 someone wave back https://t.co/1tWe5zZoHv</td>\n",
       "      <td>NaN</td>\n",
       "      <td>NaN</td>\n",
       "      <td>NaN</td>\n",
       "      <td>https://twitter.com/dog_rates/status/771500966810099713/photo/1</td>\n",
       "      <td>12</td>\n",
       "      <td>10</td>\n",
       "      <td>Dakota</td>\n",
       "      <td>None</td>\n",
       "      <td>None</td>\n",
       "      <td>None</td>\n",
       "      <td>None</td>\n",
       "    </tr>\n",
       "    <tr>\n",
       "      <th>1331</th>\n",
       "      <td>705591895322394625</td>\n",
       "      <td>NaN</td>\n",
       "      <td>NaN</td>\n",
       "      <td>2016-03-04 03:13:11 +0000</td>\n",
       "      <td>&lt;a href=\"http://twitter.com/download/iphone\" rel=\"nofollow\"&gt;Twitter for iPhone&lt;/a&gt;</td>\n",
       "      <td>\"Ma'am, for the last time, I'm not authorized to make that type of transaction\" 11/10 https://t.co/nPTBsdm3BF</td>\n",
       "      <td>NaN</td>\n",
       "      <td>NaN</td>\n",
       "      <td>NaN</td>\n",
       "      <td>https://twitter.com/dog_rates/status/705591895322394625/photo/1</td>\n",
       "      <td>11</td>\n",
       "      <td>10</td>\n",
       "      <td>None</td>\n",
       "      <td>None</td>\n",
       "      <td>None</td>\n",
       "      <td>None</td>\n",
       "      <td>None</td>\n",
       "    </tr>\n",
       "    <tr>\n",
       "      <th>2127</th>\n",
       "      <td>670319130621435904</td>\n",
       "      <td>NaN</td>\n",
       "      <td>NaN</td>\n",
       "      <td>2015-11-27 19:11:49 +0000</td>\n",
       "      <td>&lt;a href=\"http://twitter.com/download/iphone\" rel=\"nofollow\"&gt;Twitter for iPhone&lt;/a&gt;</td>\n",
       "      <td>AT DAWN...\\nWE RIDE\\n\\n11/10 https://t.co/QnfO7HEQGA</td>\n",
       "      <td>NaN</td>\n",
       "      <td>NaN</td>\n",
       "      <td>NaN</td>\n",
       "      <td>https://twitter.com/dog_rates/status/670319130621435904/photo/1</td>\n",
       "      <td>11</td>\n",
       "      <td>10</td>\n",
       "      <td>None</td>\n",
       "      <td>None</td>\n",
       "      <td>None</td>\n",
       "      <td>None</td>\n",
       "      <td>None</td>\n",
       "    </tr>\n",
       "    <tr>\n",
       "      <th>12</th>\n",
       "      <td>889665388333682689</td>\n",
       "      <td>NaN</td>\n",
       "      <td>NaN</td>\n",
       "      <td>2017-07-25 01:55:32 +0000</td>\n",
       "      <td>&lt;a href=\"http://twitter.com/download/iphone\" rel=\"nofollow\"&gt;Twitter for iPhone&lt;/a&gt;</td>\n",
       "      <td>Here's a puppo that seems to be on the fence about something haha no but seriously someone help her. 13/10 https://t.co/BxvuXk0UCm</td>\n",
       "      <td>NaN</td>\n",
       "      <td>NaN</td>\n",
       "      <td>NaN</td>\n",
       "      <td>https://twitter.com/dog_rates/status/889665388333682689/photo/1</td>\n",
       "      <td>13</td>\n",
       "      <td>10</td>\n",
       "      <td>None</td>\n",
       "      <td>None</td>\n",
       "      <td>None</td>\n",
       "      <td>None</td>\n",
       "      <td>puppo</td>\n",
       "    </tr>\n",
       "    <tr>\n",
       "      <th>584</th>\n",
       "      <td>800141422401830912</td>\n",
       "      <td>NaN</td>\n",
       "      <td>NaN</td>\n",
       "      <td>2016-11-20 00:59:15 +0000</td>\n",
       "      <td>&lt;a href=\"http://twitter.com/download/iphone\" rel=\"nofollow\"&gt;Twitter for iPhone&lt;/a&gt;</td>\n",
       "      <td>This is Peaches. She's the ultimate selfie sidekick. Super sneaky tongue slip appreciated. 13/10 https://t.co/pbKOesr8Tg</td>\n",
       "      <td>NaN</td>\n",
       "      <td>NaN</td>\n",
       "      <td>NaN</td>\n",
       "      <td>https://twitter.com/dog_rates/status/800141422401830912/photo/1,https://twitter.com/dog_rates/status/800141422401830912/photo/1,https://twitter.com/dog_rates/status/800141422401830912/photo/1</td>\n",
       "      <td>13</td>\n",
       "      <td>10</td>\n",
       "      <td>Peaches</td>\n",
       "      <td>None</td>\n",
       "      <td>None</td>\n",
       "      <td>None</td>\n",
       "      <td>None</td>\n",
       "    </tr>\n",
       "    <tr>\n",
       "      <th>1351</th>\n",
       "      <td>704054845121142784</td>\n",
       "      <td>NaN</td>\n",
       "      <td>NaN</td>\n",
       "      <td>2016-02-28 21:25:30 +0000</td>\n",
       "      <td>&lt;a href=\"http://twitter.com/download/iphone\" rel=\"nofollow\"&gt;Twitter for iPhone&lt;/a&gt;</td>\n",
       "      <td>Here is a whole flock of puppers.  60/50 I'll take the lot https://t.co/9dpcw6MdWa</td>\n",
       "      <td>NaN</td>\n",
       "      <td>NaN</td>\n",
       "      <td>NaN</td>\n",
       "      <td>https://twitter.com/dog_rates/status/704054845121142784/photo/1</td>\n",
       "      <td>60</td>\n",
       "      <td>50</td>\n",
       "      <td>a</td>\n",
       "      <td>None</td>\n",
       "      <td>None</td>\n",
       "      <td>None</td>\n",
       "      <td>None</td>\n",
       "    </tr>\n",
       "    <tr>\n",
       "      <th>2087</th>\n",
       "      <td>670797304698376195</td>\n",
       "      <td>NaN</td>\n",
       "      <td>NaN</td>\n",
       "      <td>2015-11-29 02:51:54 +0000</td>\n",
       "      <td>&lt;a href=\"http://twitter.com/download/iphone\" rel=\"nofollow\"&gt;Twitter for iPhone&lt;/a&gt;</td>\n",
       "      <td>This is Trigger. He was minding his own business on stair when he overheard someone say they don't like bacon. 11/10 https://t.co/yqohZK4CL0</td>\n",
       "      <td>NaN</td>\n",
       "      <td>NaN</td>\n",
       "      <td>NaN</td>\n",
       "      <td>https://twitter.com/dog_rates/status/670797304698376195/photo/1</td>\n",
       "      <td>11</td>\n",
       "      <td>10</td>\n",
       "      <td>Trigger</td>\n",
       "      <td>None</td>\n",
       "      <td>None</td>\n",
       "      <td>None</td>\n",
       "      <td>None</td>\n",
       "    </tr>\n",
       "    <tr>\n",
       "      <th>173</th>\n",
       "      <td>858471635011153920</td>\n",
       "      <td>NaN</td>\n",
       "      <td>NaN</td>\n",
       "      <td>2017-04-30 00:02:42 +0000</td>\n",
       "      <td>&lt;a href=\"http://twitter.com/download/iphone\" rel=\"nofollow\"&gt;Twitter for iPhone&lt;/a&gt;</td>\n",
       "      <td>This is Sophie. She just arrived. Used pawority shipping. Speedy as h*ck delivery. 13/10 would carefully assemble https://t.co/8jOC4zhNxy</td>\n",
       "      <td>NaN</td>\n",
       "      <td>NaN</td>\n",
       "      <td>NaN</td>\n",
       "      <td>https://twitter.com/dog_rates/status/858471635011153920/photo/1</td>\n",
       "      <td>13</td>\n",
       "      <td>10</td>\n",
       "      <td>Sophie</td>\n",
       "      <td>None</td>\n",
       "      <td>None</td>\n",
       "      <td>None</td>\n",
       "      <td>None</td>\n",
       "    </tr>\n",
       "    <tr>\n",
       "      <th>1863</th>\n",
       "      <td>675372240448454658</td>\n",
       "      <td>NaN</td>\n",
       "      <td>NaN</td>\n",
       "      <td>2015-12-11 17:51:04 +0000</td>\n",
       "      <td>&lt;a href=\"http://twitter.com/download/iphone\" rel=\"nofollow\"&gt;Twitter for iPhone&lt;/a&gt;</td>\n",
       "      <td>The tail alone is 13/10. Great dog, better owner https://t.co/IyAXinfyju</td>\n",
       "      <td>NaN</td>\n",
       "      <td>NaN</td>\n",
       "      <td>NaN</td>\n",
       "      <td>https://twitter.com/dog_rates/status/675372240448454658/photo/1</td>\n",
       "      <td>13</td>\n",
       "      <td>10</td>\n",
       "      <td>None</td>\n",
       "      <td>None</td>\n",
       "      <td>None</td>\n",
       "      <td>None</td>\n",
       "      <td>None</td>\n",
       "    </tr>\n",
       "    <tr>\n",
       "      <th>975</th>\n",
       "      <td>750041628174217216</td>\n",
       "      <td>NaN</td>\n",
       "      <td>NaN</td>\n",
       "      <td>2016-07-04 19:00:33 +0000</td>\n",
       "      <td>&lt;a href=\"https://about.twitter.com/products/tweetdeck\" rel=\"nofollow\"&gt;TweetDeck&lt;/a&gt;</td>\n",
       "      <td>This is Beau. He's trying to keep his daddy from packing to leave for Annual Training. 13/10 and now I'm crying https://t.co/7JeDfQvzzI</td>\n",
       "      <td>NaN</td>\n",
       "      <td>NaN</td>\n",
       "      <td>NaN</td>\n",
       "      <td>https://twitter.com/dog_rates/status/750041628174217216/photo/1</td>\n",
       "      <td>13</td>\n",
       "      <td>10</td>\n",
       "      <td>Beau</td>\n",
       "      <td>None</td>\n",
       "      <td>None</td>\n",
       "      <td>None</td>\n",
       "      <td>None</td>\n",
       "    </tr>\n",
       "  </tbody>\n",
       "</table>\n",
       "</div>"
      ],
      "text/plain": [
       "                tweet_id  in_reply_to_status_id  in_reply_to_user_id  \\\n",
       "809   771500966810099713 NaN                    NaN                    \n",
       "1331  705591895322394625 NaN                    NaN                    \n",
       "2127  670319130621435904 NaN                    NaN                    \n",
       "12    889665388333682689 NaN                    NaN                    \n",
       "584   800141422401830912 NaN                    NaN                    \n",
       "1351  704054845121142784 NaN                    NaN                    \n",
       "2087  670797304698376195 NaN                    NaN                    \n",
       "173   858471635011153920 NaN                    NaN                    \n",
       "1863  675372240448454658 NaN                    NaN                    \n",
       "975   750041628174217216 NaN                    NaN                    \n",
       "\n",
       "                      timestamp  \\\n",
       "809   2016-09-02 00:12:18 +0000   \n",
       "1331  2016-03-04 03:13:11 +0000   \n",
       "2127  2015-11-27 19:11:49 +0000   \n",
       "12    2017-07-25 01:55:32 +0000   \n",
       "584   2016-11-20 00:59:15 +0000   \n",
       "1351  2016-02-28 21:25:30 +0000   \n",
       "2087  2015-11-29 02:51:54 +0000   \n",
       "173   2017-04-30 00:02:42 +0000   \n",
       "1863  2015-12-11 17:51:04 +0000   \n",
       "975   2016-07-04 19:00:33 +0000   \n",
       "\n",
       "                                                                                   source  \\\n",
       "809   <a href=\"http://twitter.com/download/iphone\" rel=\"nofollow\">Twitter for iPhone</a>    \n",
       "1331  <a href=\"http://twitter.com/download/iphone\" rel=\"nofollow\">Twitter for iPhone</a>    \n",
       "2127  <a href=\"http://twitter.com/download/iphone\" rel=\"nofollow\">Twitter for iPhone</a>    \n",
       "12    <a href=\"http://twitter.com/download/iphone\" rel=\"nofollow\">Twitter for iPhone</a>    \n",
       "584   <a href=\"http://twitter.com/download/iphone\" rel=\"nofollow\">Twitter for iPhone</a>    \n",
       "1351  <a href=\"http://twitter.com/download/iphone\" rel=\"nofollow\">Twitter for iPhone</a>    \n",
       "2087  <a href=\"http://twitter.com/download/iphone\" rel=\"nofollow\">Twitter for iPhone</a>    \n",
       "173   <a href=\"http://twitter.com/download/iphone\" rel=\"nofollow\">Twitter for iPhone</a>    \n",
       "1863  <a href=\"http://twitter.com/download/iphone\" rel=\"nofollow\">Twitter for iPhone</a>    \n",
       "975   <a href=\"https://about.twitter.com/products/tweetdeck\" rel=\"nofollow\">TweetDeck</a>   \n",
       "\n",
       "                                                                                                                                              text  \\\n",
       "809   This is Dakota. He's just saying hi. That's all. 12/10 someone wave back https://t.co/1tWe5zZoHv                                               \n",
       "1331  \"Ma'am, for the last time, I'm not authorized to make that type of transaction\" 11/10 https://t.co/nPTBsdm3BF                                  \n",
       "2127  AT DAWN...\\nWE RIDE\\n\\n11/10 https://t.co/QnfO7HEQGA                                                                                           \n",
       "12    Here's a puppo that seems to be on the fence about something haha no but seriously someone help her. 13/10 https://t.co/BxvuXk0UCm             \n",
       "584   This is Peaches. She's the ultimate selfie sidekick. Super sneaky tongue slip appreciated. 13/10 https://t.co/pbKOesr8Tg                       \n",
       "1351  Here is a whole flock of puppers.  60/50 I'll take the lot https://t.co/9dpcw6MdWa                                                             \n",
       "2087  This is Trigger. He was minding his own business on stair when he overheard someone say they don't like bacon. 11/10 https://t.co/yqohZK4CL0   \n",
       "173   This is Sophie. She just arrived. Used pawority shipping. Speedy as h*ck delivery. 13/10 would carefully assemble https://t.co/8jOC4zhNxy      \n",
       "1863  The tail alone is 13/10. Great dog, better owner https://t.co/IyAXinfyju                                                                       \n",
       "975   This is Beau. He's trying to keep his daddy from packing to leave for Annual Training. 13/10 and now I'm crying https://t.co/7JeDfQvzzI        \n",
       "\n",
       "      retweeted_status_id  retweeted_status_user_id  \\\n",
       "809  NaN                  NaN                         \n",
       "1331 NaN                  NaN                         \n",
       "2127 NaN                  NaN                         \n",
       "12   NaN                  NaN                         \n",
       "584  NaN                  NaN                         \n",
       "1351 NaN                  NaN                         \n",
       "2087 NaN                  NaN                         \n",
       "173  NaN                  NaN                         \n",
       "1863 NaN                  NaN                         \n",
       "975  NaN                  NaN                         \n",
       "\n",
       "     retweeted_status_timestamp  \\\n",
       "809   NaN                         \n",
       "1331  NaN                         \n",
       "2127  NaN                         \n",
       "12    NaN                         \n",
       "584   NaN                         \n",
       "1351  NaN                         \n",
       "2087  NaN                         \n",
       "173   NaN                         \n",
       "1863  NaN                         \n",
       "975   NaN                         \n",
       "\n",
       "                                                                                                                                                                                        expanded_urls  \\\n",
       "809   https://twitter.com/dog_rates/status/771500966810099713/photo/1                                                                                                                                   \n",
       "1331  https://twitter.com/dog_rates/status/705591895322394625/photo/1                                                                                                                                   \n",
       "2127  https://twitter.com/dog_rates/status/670319130621435904/photo/1                                                                                                                                   \n",
       "12    https://twitter.com/dog_rates/status/889665388333682689/photo/1                                                                                                                                   \n",
       "584   https://twitter.com/dog_rates/status/800141422401830912/photo/1,https://twitter.com/dog_rates/status/800141422401830912/photo/1,https://twitter.com/dog_rates/status/800141422401830912/photo/1   \n",
       "1351  https://twitter.com/dog_rates/status/704054845121142784/photo/1                                                                                                                                   \n",
       "2087  https://twitter.com/dog_rates/status/670797304698376195/photo/1                                                                                                                                   \n",
       "173   https://twitter.com/dog_rates/status/858471635011153920/photo/1                                                                                                                                   \n",
       "1863  https://twitter.com/dog_rates/status/675372240448454658/photo/1                                                                                                                                   \n",
       "975   https://twitter.com/dog_rates/status/750041628174217216/photo/1                                                                                                                                   \n",
       "\n",
       "      rating_numerator  rating_denominator     name doggo floofer pupper  \\\n",
       "809   12                10                  Dakota   None  None    None    \n",
       "1331  11                10                  None     None  None    None    \n",
       "2127  11                10                  None     None  None    None    \n",
       "12    13                10                  None     None  None    None    \n",
       "584   13                10                  Peaches  None  None    None    \n",
       "1351  60                50                  a        None  None    None    \n",
       "2087  11                10                  Trigger  None  None    None    \n",
       "173   13                10                  Sophie   None  None    None    \n",
       "1863  13                10                  None     None  None    None    \n",
       "975   13                10                  Beau     None  None    None    \n",
       "\n",
       "      puppo  \n",
       "809   None   \n",
       "1331  None   \n",
       "2127  None   \n",
       "12    puppo  \n",
       "584   None   \n",
       "1351  None   \n",
       "2087  None   \n",
       "173   None   \n",
       "1863  None   \n",
       "975   None   "
      ]
     },
     "execution_count": 8,
     "metadata": {},
     "output_type": "execute_result"
    }
   ],
   "source": [
    "dog_tweets_df.sample(10)"
   ]
  },
  {
   "cell_type": "code",
   "execution_count": 9,
   "metadata": {},
   "outputs": [
    {
     "data": {
      "text/html": [
       "<div>\n",
       "<style scoped>\n",
       "    .dataframe tbody tr th:only-of-type {\n",
       "        vertical-align: middle;\n",
       "    }\n",
       "\n",
       "    .dataframe tbody tr th {\n",
       "        vertical-align: top;\n",
       "    }\n",
       "\n",
       "    .dataframe thead th {\n",
       "        text-align: right;\n",
       "    }\n",
       "</style>\n",
       "<table border=\"1\" class=\"dataframe\">\n",
       "  <thead>\n",
       "    <tr style=\"text-align: right;\">\n",
       "      <th></th>\n",
       "      <th>tweet_id</th>\n",
       "      <th>jpg_url</th>\n",
       "      <th>img_num</th>\n",
       "      <th>p1</th>\n",
       "      <th>p1_conf</th>\n",
       "      <th>p1_dog</th>\n",
       "      <th>p2</th>\n",
       "      <th>p2_conf</th>\n",
       "      <th>p2_dog</th>\n",
       "      <th>p3</th>\n",
       "      <th>p3_conf</th>\n",
       "      <th>p3_dog</th>\n",
       "    </tr>\n",
       "  </thead>\n",
       "  <tbody>\n",
       "    <tr>\n",
       "      <th>422</th>\n",
       "      <td>674051556661161984</td>\n",
       "      <td>https://pbs.twimg.com/media/CVq2UHwWEAAduMw.jpg</td>\n",
       "      <td>1</td>\n",
       "      <td>Shih-Tzu</td>\n",
       "      <td>0.179777</td>\n",
       "      <td>True</td>\n",
       "      <td>badger</td>\n",
       "      <td>0.160580</td>\n",
       "      <td>False</td>\n",
       "      <td>three-toed_sloth</td>\n",
       "      <td>0.132154</td>\n",
       "      <td>False</td>\n",
       "    </tr>\n",
       "    <tr>\n",
       "      <th>401</th>\n",
       "      <td>673689733134946305</td>\n",
       "      <td>https://pbs.twimg.com/media/CVltNgxWEAA5sCJ.jpg</td>\n",
       "      <td>1</td>\n",
       "      <td>Chesapeake_Bay_retriever</td>\n",
       "      <td>0.382220</td>\n",
       "      <td>True</td>\n",
       "      <td>American_Staffordshire_terrier</td>\n",
       "      <td>0.350140</td>\n",
       "      <td>True</td>\n",
       "      <td>seat_belt</td>\n",
       "      <td>0.098874</td>\n",
       "      <td>False</td>\n",
       "    </tr>\n",
       "    <tr>\n",
       "      <th>776</th>\n",
       "      <td>689661964914655233</td>\n",
       "      <td>https://pbs.twimg.com/media/CZIr5gFUsAAvnif.jpg</td>\n",
       "      <td>1</td>\n",
       "      <td>Italian_greyhound</td>\n",
       "      <td>0.322818</td>\n",
       "      <td>True</td>\n",
       "      <td>whippet</td>\n",
       "      <td>0.246966</td>\n",
       "      <td>True</td>\n",
       "      <td>Chihuahua</td>\n",
       "      <td>0.122541</td>\n",
       "      <td>True</td>\n",
       "    </tr>\n",
       "    <tr>\n",
       "      <th>1585</th>\n",
       "      <td>797545162159308800</td>\n",
       "      <td>https://pbs.twimg.com/media/CxFzFAAUAAA5C9z.jpg</td>\n",
       "      <td>1</td>\n",
       "      <td>Pembroke</td>\n",
       "      <td>0.954089</td>\n",
       "      <td>True</td>\n",
       "      <td>Cardigan</td>\n",
       "      <td>0.033644</td>\n",
       "      <td>True</td>\n",
       "      <td>papillon</td>\n",
       "      <td>0.009736</td>\n",
       "      <td>True</td>\n",
       "    </tr>\n",
       "    <tr>\n",
       "      <th>389</th>\n",
       "      <td>673359818736984064</td>\n",
       "      <td>https://pbs.twimg.com/media/CVhBLohWEAAXtYl.jpg</td>\n",
       "      <td>1</td>\n",
       "      <td>English_setter</td>\n",
       "      <td>0.696568</td>\n",
       "      <td>True</td>\n",
       "      <td>Brittany_spaniel</td>\n",
       "      <td>0.104046</td>\n",
       "      <td>True</td>\n",
       "      <td>Ibizan_hound</td>\n",
       "      <td>0.034832</td>\n",
       "      <td>True</td>\n",
       "    </tr>\n",
       "    <tr>\n",
       "      <th>901</th>\n",
       "      <td>700002074055016451</td>\n",
       "      <td>https://pbs.twimg.com/media/CbboKP4WIAAw8xq.jpg</td>\n",
       "      <td>1</td>\n",
       "      <td>Chihuahua</td>\n",
       "      <td>0.369488</td>\n",
       "      <td>True</td>\n",
       "      <td>schipperke</td>\n",
       "      <td>0.243367</td>\n",
       "      <td>True</td>\n",
       "      <td>pug</td>\n",
       "      <td>0.161614</td>\n",
       "      <td>True</td>\n",
       "    </tr>\n",
       "    <tr>\n",
       "      <th>1515</th>\n",
       "      <td>786709082849828864</td>\n",
       "      <td>https://pbs.twimg.com/media/CurzvFTXgAA2_AP.jpg</td>\n",
       "      <td>1</td>\n",
       "      <td>Pomeranian</td>\n",
       "      <td>0.467321</td>\n",
       "      <td>True</td>\n",
       "      <td>Persian_cat</td>\n",
       "      <td>0.122978</td>\n",
       "      <td>False</td>\n",
       "      <td>chow</td>\n",
       "      <td>0.102654</td>\n",
       "      <td>True</td>\n",
       "    </tr>\n",
       "    <tr>\n",
       "      <th>59</th>\n",
       "      <td>667119796878725120</td>\n",
       "      <td>https://pbs.twimg.com/media/CUIV6F7XIAA1tAM.jpg</td>\n",
       "      <td>1</td>\n",
       "      <td>Pembroke</td>\n",
       "      <td>0.741563</td>\n",
       "      <td>True</td>\n",
       "      <td>Chihuahua</td>\n",
       "      <td>0.057866</td>\n",
       "      <td>True</td>\n",
       "      <td>toy_poodle</td>\n",
       "      <td>0.039125</td>\n",
       "      <td>True</td>\n",
       "    </tr>\n",
       "    <tr>\n",
       "      <th>1299</th>\n",
       "      <td>752519690950500352</td>\n",
       "      <td>https://pbs.twimg.com/media/CnF8qVDWYAAh0g1.jpg</td>\n",
       "      <td>3</td>\n",
       "      <td>swing</td>\n",
       "      <td>0.999984</td>\n",
       "      <td>False</td>\n",
       "      <td>Labrador_retriever</td>\n",
       "      <td>0.000010</td>\n",
       "      <td>True</td>\n",
       "      <td>Eskimo_dog</td>\n",
       "      <td>0.000001</td>\n",
       "      <td>True</td>\n",
       "    </tr>\n",
       "    <tr>\n",
       "      <th>1224</th>\n",
       "      <td>744971049620602880</td>\n",
       "      <td>https://pbs.twimg.com/media/ClarNU8VAAEDrDt.jpg</td>\n",
       "      <td>1</td>\n",
       "      <td>toy_poodle</td>\n",
       "      <td>0.497755</td>\n",
       "      <td>True</td>\n",
       "      <td>golden_retriever</td>\n",
       "      <td>0.282017</td>\n",
       "      <td>True</td>\n",
       "      <td>miniature_poodle</td>\n",
       "      <td>0.090032</td>\n",
       "      <td>True</td>\n",
       "    </tr>\n",
       "  </tbody>\n",
       "</table>\n",
       "</div>"
      ],
      "text/plain": [
       "                tweet_id                                          jpg_url  \\\n",
       "422   674051556661161984  https://pbs.twimg.com/media/CVq2UHwWEAAduMw.jpg   \n",
       "401   673689733134946305  https://pbs.twimg.com/media/CVltNgxWEAA5sCJ.jpg   \n",
       "776   689661964914655233  https://pbs.twimg.com/media/CZIr5gFUsAAvnif.jpg   \n",
       "1585  797545162159308800  https://pbs.twimg.com/media/CxFzFAAUAAA5C9z.jpg   \n",
       "389   673359818736984064  https://pbs.twimg.com/media/CVhBLohWEAAXtYl.jpg   \n",
       "901   700002074055016451  https://pbs.twimg.com/media/CbboKP4WIAAw8xq.jpg   \n",
       "1515  786709082849828864  https://pbs.twimg.com/media/CurzvFTXgAA2_AP.jpg   \n",
       "59    667119796878725120  https://pbs.twimg.com/media/CUIV6F7XIAA1tAM.jpg   \n",
       "1299  752519690950500352  https://pbs.twimg.com/media/CnF8qVDWYAAh0g1.jpg   \n",
       "1224  744971049620602880  https://pbs.twimg.com/media/ClarNU8VAAEDrDt.jpg   \n",
       "\n",
       "      img_num                        p1   p1_conf  p1_dog  \\\n",
       "422   1        Shih-Tzu                  0.179777  True     \n",
       "401   1        Chesapeake_Bay_retriever  0.382220  True     \n",
       "776   1        Italian_greyhound         0.322818  True     \n",
       "1585  1        Pembroke                  0.954089  True     \n",
       "389   1        English_setter            0.696568  True     \n",
       "901   1        Chihuahua                 0.369488  True     \n",
       "1515  1        Pomeranian                0.467321  True     \n",
       "59    1        Pembroke                  0.741563  True     \n",
       "1299  3        swing                     0.999984  False    \n",
       "1224  1        toy_poodle                0.497755  True     \n",
       "\n",
       "                                  p2   p2_conf  p2_dog                p3  \\\n",
       "422   badger                          0.160580  False   three-toed_sloth   \n",
       "401   American_Staffordshire_terrier  0.350140  True    seat_belt          \n",
       "776   whippet                         0.246966  True    Chihuahua          \n",
       "1585  Cardigan                        0.033644  True    papillon           \n",
       "389   Brittany_spaniel                0.104046  True    Ibizan_hound       \n",
       "901   schipperke                      0.243367  True    pug                \n",
       "1515  Persian_cat                     0.122978  False   chow               \n",
       "59    Chihuahua                       0.057866  True    toy_poodle         \n",
       "1299  Labrador_retriever              0.000010  True    Eskimo_dog         \n",
       "1224  golden_retriever                0.282017  True    miniature_poodle   \n",
       "\n",
       "       p3_conf  p3_dog  \n",
       "422   0.132154  False   \n",
       "401   0.098874  False   \n",
       "776   0.122541  True    \n",
       "1585  0.009736  True    \n",
       "389   0.034832  True    \n",
       "901   0.161614  True    \n",
       "1515  0.102654  True    \n",
       "59    0.039125  True    \n",
       "1299  0.000001  True    \n",
       "1224  0.090032  True    "
      ]
     },
     "execution_count": 9,
     "metadata": {},
     "output_type": "execute_result"
    }
   ],
   "source": [
    "image_predictions_df.sample(10)"
   ]
  },
  {
   "cell_type": "code",
   "execution_count": 10,
   "metadata": {
    "scrolled": true
   },
   "outputs": [
    {
     "data": {
      "text/html": [
       "<div>\n",
       "<style scoped>\n",
       "    .dataframe tbody tr th:only-of-type {\n",
       "        vertical-align: middle;\n",
       "    }\n",
       "\n",
       "    .dataframe tbody tr th {\n",
       "        vertical-align: top;\n",
       "    }\n",
       "\n",
       "    .dataframe thead th {\n",
       "        text-align: right;\n",
       "    }\n",
       "</style>\n",
       "<table border=\"1\" class=\"dataframe\">\n",
       "  <thead>\n",
       "    <tr style=\"text-align: right;\">\n",
       "      <th></th>\n",
       "      <th>tweet_id</th>\n",
       "      <th>nr_of_retweets</th>\n",
       "      <th>nr_of_favorites</th>\n",
       "    </tr>\n",
       "  </thead>\n",
       "  <tbody>\n",
       "    <tr>\n",
       "      <th>270</th>\n",
       "      <td>838561493054533637</td>\n",
       "      <td>1504</td>\n",
       "      <td>11892</td>\n",
       "    </tr>\n",
       "    <tr>\n",
       "      <th>1069</th>\n",
       "      <td>733828123016450049</td>\n",
       "      <td>881</td>\n",
       "      <td>3926</td>\n",
       "    </tr>\n",
       "    <tr>\n",
       "      <th>940</th>\n",
       "      <td>750026558547456000</td>\n",
       "      <td>888</td>\n",
       "      <td>2986</td>\n",
       "    </tr>\n",
       "    <tr>\n",
       "      <th>386</th>\n",
       "      <td>823322678127919110</td>\n",
       "      <td>4637</td>\n",
       "      <td>17437</td>\n",
       "    </tr>\n",
       "    <tr>\n",
       "      <th>1416</th>\n",
       "      <td>694352839993344000</td>\n",
       "      <td>700</td>\n",
       "      <td>2244</td>\n",
       "    </tr>\n",
       "    <tr>\n",
       "      <th>1740</th>\n",
       "      <td>676949632774234114</td>\n",
       "      <td>448</td>\n",
       "      <td>1413</td>\n",
       "    </tr>\n",
       "    <tr>\n",
       "      <th>490</th>\n",
       "      <td>810896069567610880</td>\n",
       "      <td>2090</td>\n",
       "      <td>10093</td>\n",
       "    </tr>\n",
       "    <tr>\n",
       "      <th>679</th>\n",
       "      <td>784517518371221505</td>\n",
       "      <td>2970</td>\n",
       "      <td>10039</td>\n",
       "    </tr>\n",
       "    <tr>\n",
       "      <th>918</th>\n",
       "      <td>751830394383790080</td>\n",
       "      <td>2227</td>\n",
       "      <td>6428</td>\n",
       "    </tr>\n",
       "    <tr>\n",
       "      <th>1604</th>\n",
       "      <td>682788441537560576</td>\n",
       "      <td>1258</td>\n",
       "      <td>2706</td>\n",
       "    </tr>\n",
       "  </tbody>\n",
       "</table>\n",
       "</div>"
      ],
      "text/plain": [
       "                tweet_id nr_of_retweets nr_of_favorites\n",
       "270   838561493054533637  1504           11892         \n",
       "1069  733828123016450049  881            3926          \n",
       "940   750026558547456000  888            2986          \n",
       "386   823322678127919110  4637           17437         \n",
       "1416  694352839993344000  700            2244          \n",
       "1740  676949632774234114  448            1413          \n",
       "490   810896069567610880  2090           10093         \n",
       "679   784517518371221505  2970           10039         \n",
       "918   751830394383790080  2227           6428          \n",
       "1604  682788441537560576  1258           2706          "
      ]
     },
     "execution_count": 10,
     "metadata": {},
     "output_type": "execute_result"
    }
   ],
   "source": [
    "tweet_json_data_df.sample(10)"
   ]
  },
  {
   "cell_type": "markdown",
   "metadata": {},
   "source": [
    "### Programmatic Assessment"
   ]
  },
  {
   "cell_type": "markdown",
   "metadata": {},
   "source": [
    "We will make use of pandas' extensive functions to swifly determine potential problems in the data:"
   ]
  },
  {
   "cell_type": "code",
   "execution_count": 11,
   "metadata": {},
   "outputs": [
    {
     "name": "stdout",
     "output_type": "stream",
     "text": [
      "<class 'pandas.core.frame.DataFrame'>\n",
      "RangeIndex: 2356 entries, 0 to 2355\n",
      "Data columns (total 17 columns):\n",
      "tweet_id                      2356 non-null int64\n",
      "in_reply_to_status_id         78 non-null float64\n",
      "in_reply_to_user_id           78 non-null float64\n",
      "timestamp                     2356 non-null object\n",
      "source                        2356 non-null object\n",
      "text                          2356 non-null object\n",
      "retweeted_status_id           181 non-null float64\n",
      "retweeted_status_user_id      181 non-null float64\n",
      "retweeted_status_timestamp    181 non-null object\n",
      "expanded_urls                 2297 non-null object\n",
      "rating_numerator              2356 non-null int64\n",
      "rating_denominator            2356 non-null int64\n",
      "name                          2356 non-null object\n",
      "doggo                         2356 non-null object\n",
      "floofer                       2356 non-null object\n",
      "pupper                        2356 non-null object\n",
      "puppo                         2356 non-null object\n",
      "dtypes: float64(4), int64(3), object(10)\n",
      "memory usage: 313.0+ KB\n"
     ]
    }
   ],
   "source": [
    "dog_tweets_df.info()"
   ]
  },
  {
   "cell_type": "code",
   "execution_count": 12,
   "metadata": {},
   "outputs": [
    {
     "data": {
      "text/plain": [
       "12      558\n",
       "11      464\n",
       "10      461\n",
       "13      351\n",
       "9       158\n",
       "8       102\n",
       "7       55 \n",
       "14      54 \n",
       "5       37 \n",
       "6       32 \n",
       "3       19 \n",
       "4       17 \n",
       "1       9  \n",
       "2       9  \n",
       "420     2  \n",
       "0       2  \n",
       "15      2  \n",
       "75      2  \n",
       "80      1  \n",
       "20      1  \n",
       "24      1  \n",
       "26      1  \n",
       "44      1  \n",
       "50      1  \n",
       "60      1  \n",
       "165     1  \n",
       "84      1  \n",
       "88      1  \n",
       "144     1  \n",
       "182     1  \n",
       "143     1  \n",
       "666     1  \n",
       "960     1  \n",
       "1776    1  \n",
       "17      1  \n",
       "27      1  \n",
       "45      1  \n",
       "99      1  \n",
       "121     1  \n",
       "204     1  \n",
       "Name: rating_numerator, dtype: int64"
      ]
     },
     "execution_count": 12,
     "metadata": {},
     "output_type": "execute_result"
    }
   ],
   "source": [
    "dog_tweets_df.rating_numerator.value_counts()"
   ]
  },
  {
   "cell_type": "code",
   "execution_count": 13,
   "metadata": {},
   "outputs": [
    {
     "data": {
      "text/plain": [
       "10     2333\n",
       "11     3   \n",
       "50     3   \n",
       "80     2   \n",
       "20     2   \n",
       "2      1   \n",
       "16     1   \n",
       "40     1   \n",
       "70     1   \n",
       "15     1   \n",
       "90     1   \n",
       "110    1   \n",
       "120    1   \n",
       "130    1   \n",
       "150    1   \n",
       "170    1   \n",
       "7      1   \n",
       "0      1   \n",
       "Name: rating_denominator, dtype: int64"
      ]
     },
     "execution_count": 13,
     "metadata": {},
     "output_type": "execute_result"
    }
   ],
   "source": [
    "dog_tweets_df.rating_denominator.value_counts()"
   ]
  },
  {
   "cell_type": "code",
   "execution_count": 14,
   "metadata": {},
   "outputs": [
    {
     "name": "stdout",
     "output_type": "stream",
     "text": [
      "<class 'pandas.core.frame.DataFrame'>\n",
      "RangeIndex: 2075 entries, 0 to 2074\n",
      "Data columns (total 12 columns):\n",
      "tweet_id    2075 non-null int64\n",
      "jpg_url     2075 non-null object\n",
      "img_num     2075 non-null int64\n",
      "p1          2075 non-null object\n",
      "p1_conf     2075 non-null float64\n",
      "p1_dog      2075 non-null bool\n",
      "p2          2075 non-null object\n",
      "p2_conf     2075 non-null float64\n",
      "p2_dog      2075 non-null bool\n",
      "p3          2075 non-null object\n",
      "p3_conf     2075 non-null float64\n",
      "p3_dog      2075 non-null bool\n",
      "dtypes: bool(3), float64(3), int64(2), object(4)\n",
      "memory usage: 152.1+ KB\n"
     ]
    }
   ],
   "source": [
    "image_predictions_df.info()"
   ]
  },
  {
   "cell_type": "code",
   "execution_count": 15,
   "metadata": {},
   "outputs": [
    {
     "name": "stdout",
     "output_type": "stream",
     "text": [
      "<class 'pandas.core.frame.DataFrame'>\n",
      "RangeIndex: 2276 entries, 0 to 2275\n",
      "Data columns (total 3 columns):\n",
      "tweet_id           2276 non-null object\n",
      "nr_of_retweets     2276 non-null object\n",
      "nr_of_favorites    2276 non-null object\n",
      "dtypes: object(3)\n",
      "memory usage: 53.4+ KB\n"
     ]
    }
   ],
   "source": [
    "tweet_json_data_df.info()"
   ]
  },
  {
   "cell_type": "markdown",
   "metadata": {},
   "source": [
    "### Assessment errors:\n",
    "\n",
    "From the visual and programmatic assessment done previously upon the three dataframes, we have pieced together locations of errors within the gathered data, which must first be cleaned before we can rely on this data for our analysis:\n",
    "\n",
    "#### *__Data Quality errors:__*\n",
    "- __Twitter master data - errors:__\n",
    "\n",
    "    1. The dataset includes not only original tweets, but also re-tweets and reply tweets, which should not be present for analysis\n",
    "    2. Rating numerator and denominator values are stored as `int` instead of `float` (yet there can be scores such as: 13.5)\n",
    "    3. Rating numerators are not always correctly extracted (e.g. ID 883482846933004288: _numerator 5 instead of 13.5_)\n",
    "    4. Rating denominators are not always correctly extracted (e.g. ID 810984652412424192: _denominator 7 instead of 10_)\n",
    "    5. Some dog tweets which do not have any grading are present\n",
    "    6. Tweet IDs are stored as integers, however we are not using them for any numerical calculations, so they should be strings.\n",
    "    7. Timestamps are in a string, hard-to-manipulate format\n",
    "    8. Some columns regarding retweeted or replied tweets should not be present in the final master dataset, since we should not have any retweets or replies in it\n",
    "    9. NaN values in 'doggo', 'floofer', 'pupper' and 'puppo' are represented as 'None' strings\n",
    "    10. Tweet text also contains links to the original post\n",
    "    \n",
    "\n",
    "- __Image prediction data - errors:__\n",
    "\n",
    "    11. Predicted dog race names may small without capital letter\n",
    "    12. Sometimes, spaces between predicted dog race words is represented by an underscore (_)\n",
    "    13. Tweet IDs are once again stored as integers\n",
    "\n",
    "\n",
    "- __Additional Twitter API data - errors:__\n",
    "\n",
    "    Fortunately, no impactful data errors have been found in this dataset\n",
    "\n",
    "#### *__Data Tidiness errors:__*\n",
    "\n",
    "14. The four columns from the Twitter master dataset: 'doggo', 'floofer', 'pupper' and 'puppo', are all potential values for a common variable: dog stages. A dog may have multiple dog stages associated, case in which we will record as 'multiple'\n",
    "\n",
    "\n",
    "15. The JSON-extracted dataset containing retweet counts and favorite counts for different dog IDs, as well as the image predictions for each dog tweet, are both representing variables in separate dataframes for the same observational object as the Twitter master dataset, namely the dog tweets"
   ]
  },
  {
   "cell_type": "markdown",
   "metadata": {},
   "source": [
    "Since we have properly identified most of the problems related to our variables of interest, we can now begin to address the identified problems, one-by-one."
   ]
  },
  {
   "cell_type": "markdown",
   "metadata": {},
   "source": [
    "---\n",
    "<a id='data-cleaning'></a>\n",
    "## Data Cleaning"
   ]
  },
  {
   "cell_type": "markdown",
   "metadata": {},
   "source": [
    "The last step in the data wrangling process, data cleaning will take all our previous observations related to the datasets and will perform the actual processing steps needed to achieve the most high-quality version of our data. (_This step, however, does not make our data 'better', it simply makes it as error-free as possible, so that our analyses will be the same_)"
   ]
  },
  {
   "cell_type": "code",
   "execution_count": 16,
   "metadata": {},
   "outputs": [],
   "source": [
    "# Common best-practice to copy your original dataframes to avoid potential data corruption while wrangling\n",
    "\n",
    "clean_dog_tweets = dog_tweets_df.copy()\n",
    "clean_image_predictions = image_predictions_df.copy()\n",
    "clean_tweet_data_json = tweet_json_data_df.copy()"
   ]
  },
  {
   "cell_type": "markdown",
   "metadata": {},
   "source": [
    "### Fixing Data Quality errors:\n",
    "\n",
    "#### a. Cleaning of *`dog_tweets_df`* dataset: "
   ]
  },
  {
   "cell_type": "markdown",
   "metadata": {},
   "source": [
    "#### 1. The dataset includes not only original tweets, but also re-tweets and reply tweets, which should not be present for analysis"
   ]
  },
  {
   "cell_type": "markdown",
   "metadata": {},
   "source": [
    "__*Define solution*:__\n",
    "\n",
    "The dataset contains the columns `in_reply_to_status_id` and `in_reply_to_user_id`, which will be populated with a Twitter ID if the entry is a reply. Similarly, `retweeted_status_id` and `retweeted_status_user_id` columns of the dataframe are populated if the entry is a retweet.\n",
    "\n",
    "In both such situations, we can discard (_drop_) the entries, as they are irrelevant for our analysis."
   ]
  },
  {
   "cell_type": "markdown",
   "metadata": {},
   "source": [
    "__*Code for fixing*__:"
   ]
  },
  {
   "cell_type": "code",
   "execution_count": 17,
   "metadata": {},
   "outputs": [],
   "source": [
    "index_for_retweets = clean_dog_tweets[clean_dog_tweets.retweeted_status_id == clean_dog_tweets.retweeted_status_id].index\n",
    "index_for_replies = clean_dog_tweets[clean_dog_tweets.in_reply_to_status_id == clean_dog_tweets.in_reply_to_status_id].index\n",
    "\n",
    "# drop entries with indexes being found to be of either retweets or replies\n",
    "clean_dog_tweets.drop(index = index_for_retweets, inplace = True)\n",
    "clean_dog_tweets.drop(index = index_for_replies, inplace = True)"
   ]
  },
  {
   "cell_type": "markdown",
   "metadata": {},
   "source": [
    "__*Testing for results*__:"
   ]
  },
  {
   "cell_type": "code",
   "execution_count": 18,
   "metadata": {},
   "outputs": [
    {
     "name": "stdout",
     "output_type": "stream",
     "text": [
      "Is the dataset clean of replies?\n",
      "True\n",
      "\n",
      "Is the dataset clean of retweets?\n",
      "True\n"
     ]
    }
   ],
   "source": [
    "print('Is the dataset clean of replies?')\n",
    "print(clean_dog_tweets[clean_dog_tweets.in_reply_to_user_id == clean_dog_tweets.in_reply_to_user_id].empty)\n",
    "\n",
    "print()\n",
    "\n",
    "print('Is the dataset clean of retweets?')\n",
    "print(clean_dog_tweets[clean_dog_tweets.retweeted_status_user_id == clean_dog_tweets.retweeted_status_user_id].empty)"
   ]
  },
  {
   "cell_type": "markdown",
   "metadata": {},
   "source": [
    "#### 2. Rating numerator and denominator values are stored as int instead of float (yet there can be scores such as: 13.5)"
   ]
  },
  {
   "cell_type": "markdown",
   "metadata": {},
   "source": [
    "__*Define solution*:__\n",
    "\n",
    "For accurate storage of information, we should change the datatype of both numerator and denominator to `float`."
   ]
  },
  {
   "cell_type": "markdown",
   "metadata": {},
   "source": [
    "__*Code for fixing*__:"
   ]
  },
  {
   "cell_type": "code",
   "execution_count": 19,
   "metadata": {},
   "outputs": [],
   "source": [
    "# converting column variable type to float type\n",
    "clean_dog_tweets.rating_numerator = clean_dog_tweets.rating_numerator.astype(float)\n",
    "clean_dog_tweets.rating_denominator = clean_dog_tweets.rating_denominator.astype(float)"
   ]
  },
  {
   "cell_type": "markdown",
   "metadata": {},
   "source": [
    "__*Testing for results*__:"
   ]
  },
  {
   "cell_type": "code",
   "execution_count": 20,
   "metadata": {},
   "outputs": [
    {
     "name": "stdout",
     "output_type": "stream",
     "text": [
      "float64\n",
      "float64\n"
     ]
    }
   ],
   "source": [
    "print(clean_dog_tweets.rating_numerator.dtype)\n",
    "print(clean_dog_tweets.rating_denominator.dtype)"
   ]
  },
  {
   "cell_type": "markdown",
   "metadata": {},
   "source": [
    "#### 3. Rating numerators are not always correctly extracted (e.g. ID 883482846933004288: numerator 5 instead of 13.5)"
   ]
  },
  {
   "cell_type": "markdown",
   "metadata": {},
   "source": [
    "__*Define solution*:__\n",
    "\n",
    "For each tweet, we have its original text, which contains the ratings in the form: `numerator/denominator`. We will redo the operation of extraction of the numerator from the text, using the `split` and `find` methods of strings to our advantage."
   ]
  },
  {
   "cell_type": "markdown",
   "metadata": {},
   "source": [
    "__*Code for fixing*__:"
   ]
  },
  {
   "cell_type": "code",
   "execution_count": 21,
   "metadata": {
    "scrolled": true
   },
   "outputs": [],
   "source": [
    "def extract_numerator(row):\n",
    "    numerator_text = row.text.split('/', maxsplit = 1)[0] # this is all the text to the left of the backslash between numerator and denominator\n",
    "\n",
    "    try:\n",
    "        # we are trying to use regex to find the numerator digits within the tweet text\n",
    "        numerator_index = re.search(r'(\\d{1,5}\\.?\\d*)/', row.text).start(0) # index of first digit of the numerator\n",
    "        \n",
    "        # we select all characters from the first numerator digit to the split character ('/') (however this string ends at the split character)\n",
    "        numerator = float(numerator_text[numerator_index:])\n",
    "        row.rating_numerator = numerator\n",
    "    except:\n",
    "        row.rating_numerator = None\n",
    "    \n",
    "    return row\n",
    "\n",
    "clean_dog_tweets = clean_dog_tweets.apply(lambda row: extract_numerator(row), axis = 1)"
   ]
  },
  {
   "cell_type": "markdown",
   "metadata": {},
   "source": [
    "__*Testing for results*__:"
   ]
  },
  {
   "cell_type": "code",
   "execution_count": 22,
   "metadata": {
    "scrolled": false
   },
   "outputs": [
    {
     "data": {
      "text/plain": [
       "12.00      485\n",
       "10.00      436\n",
       "11.00      413\n",
       "13.00      287\n",
       "9.00       153\n",
       "8.00       98 \n",
       "7.00       52 \n",
       "14.00      38 \n",
       "5.00       33 \n",
       "6.00       32 \n",
       "3.00       18 \n",
       "4.00       16 \n",
       "2.00       9  \n",
       "1.00       5  \n",
       "13.50      1  \n",
       "0.00       1  \n",
       "24.00      1  \n",
       "84.00      1  \n",
       "420.00     1  \n",
       "1776.00    1  \n",
       "80.00      1  \n",
       "60.00      1  \n",
       "44.00      1  \n",
       "144.00     1  \n",
       "88.00      1  \n",
       "11.26      1  \n",
       "11.27      1  \n",
       "121.00     1  \n",
       "9.75       1  \n",
       "99.00      1  \n",
       "204.00     1  \n",
       "45.00      1  \n",
       "165.00     1  \n",
       "50.00      1  \n",
       "Name: rating_numerator, dtype: int64"
      ]
     },
     "execution_count": 22,
     "metadata": {},
     "output_type": "execute_result"
    }
   ],
   "source": [
    "clean_dog_tweets.rating_numerator.value_counts()"
   ]
  },
  {
   "cell_type": "code",
   "execution_count": 23,
   "metadata": {},
   "outputs": [
    {
     "data": {
      "text/plain": [
       "45    13.5\n",
       "Name: rating_numerator, dtype: float64"
      ]
     },
     "execution_count": 23,
     "metadata": {},
     "output_type": "execute_result"
    }
   ],
   "source": [
    "clean_dog_tweets[clean_dog_tweets.tweet_id == 883482846933004288].rating_numerator"
   ]
  },
  {
   "cell_type": "markdown",
   "metadata": {},
   "source": [
    "#### 4. Rating denominators are not always correctly extracted (e.g. ID 810984652412424192: denominator 7 instead of 10)"
   ]
  },
  {
   "cell_type": "markdown",
   "metadata": {},
   "source": [
    "__*Define solution*:__\n",
    "\n",
    "For each tweet, we have its original text, which contains the ratings in the form: `numerator/denominator`. We will redo the operation of extraction of the denominator from the text, using the `split` and `find` methods of strings to our advantage."
   ]
  },
  {
   "cell_type": "markdown",
   "metadata": {},
   "source": [
    "__*Code for fixing*__:"
   ]
  },
  {
   "cell_type": "code",
   "execution_count": 24,
   "metadata": {},
   "outputs": [],
   "source": [
    "def extract_denominator(row):\n",
    "    denominator_text = row.text.split('/', maxsplit = 1)[1] # this is all the text to the right of the backslash between numerator and denominator\n",
    "    \n",
    "    try:\n",
    "        first_whitespace_index = re.search(r'[^0-9\\.]', denominator_text).start(0) # whitespace delimiting denominator and other next parts of sliced string\n",
    "        \n",
    "        # we select all characters from the start of the split string up to the first whitespace character\n",
    "        denominator = float(denominator_text[: first_whitespace_index])\n",
    "        row.rating_denominator = denominator\n",
    "    except:\n",
    "        row.rating_denominator = None\n",
    "    \n",
    "    return row\n",
    "\n",
    "clean_dog_tweets = clean_dog_tweets.apply(lambda row: extract_denominator(row), axis = 1)"
   ]
  },
  {
   "cell_type": "markdown",
   "metadata": {},
   "source": [
    "__*Testing for results*__:"
   ]
  },
  {
   "cell_type": "code",
   "execution_count": 25,
   "metadata": {},
   "outputs": [
    {
     "data": {
      "text/plain": [
       "10.0     2078\n",
       "50.0     3   \n",
       "80.0     2   \n",
       "11.0     2   \n",
       "150.0    1   \n",
       "110.0    1   \n",
       "90.0     1   \n",
       "70.0     1   \n",
       "170.0    1   \n",
       "2.0      1   \n",
       "120.0    1   \n",
       "40.0     1   \n",
       "20.0     1   \n",
       "7.0      1   \n",
       "Name: rating_denominator, dtype: int64"
      ]
     },
     "execution_count": 25,
     "metadata": {},
     "output_type": "execute_result"
    }
   ],
   "source": [
    "clean_dog_tweets.rating_denominator.value_counts()"
   ]
  },
  {
   "cell_type": "code",
   "execution_count": 26,
   "metadata": {},
   "outputs": [
    {
     "name": "stdout",
     "output_type": "stream",
     "text": [
      "Are there any tweet entries without numerator, yet with denominator?\n",
      "False\n",
      "\n",
      "Are there any tweet entries with numerator, yet without denominator?\n",
      "False\n"
     ]
    }
   ],
   "source": [
    "print('Are there any tweet entries without numerator, yet with denominator?')\n",
    "print(not clean_dog_tweets[\n",
    "    (clean_dog_tweets.rating_numerator != clean_dog_tweets.rating_numerator) & \n",
    "    (clean_dog_tweets.rating_denominator == clean_dog_tweets.rating_denominator)].empty)\n",
    "\n",
    "print()\n",
    "\n",
    "print('Are there any tweet entries with numerator, yet without denominator?')\n",
    "print(not clean_dog_tweets[\n",
    "    (clean_dog_tweets.rating_numerator == clean_dog_tweets.rating_numerator) & \n",
    "    (clean_dog_tweets.rating_denominator != clean_dog_tweets.rating_denominator)].empty)"
   ]
  },
  {
   "cell_type": "markdown",
   "metadata": {},
   "source": [
    "#### 5. Some dog tweets which do not have any grading are present"
   ]
  },
  {
   "cell_type": "markdown",
   "metadata": {},
   "source": [
    "__*Define solution*:__\n",
    "\n",
    "After more visual assessment was done, it was found that only tweet ID 810984652412424192 has this property. \n",
    "Therefore, to fix this problem, it is best to drop the entry with ID 810984652412424192."
   ]
  },
  {
   "cell_type": "markdown",
   "metadata": {},
   "source": [
    "__*Code for fixing*__:"
   ]
  },
  {
   "cell_type": "code",
   "execution_count": 27,
   "metadata": {},
   "outputs": [],
   "source": [
    "clean_dog_tweets.drop(index = clean_dog_tweets[clean_dog_tweets.tweet_id == 810984652412424192].index, inplace = True)"
   ]
  },
  {
   "cell_type": "markdown",
   "metadata": {},
   "source": [
    "__*Testing for results*__:"
   ]
  },
  {
   "cell_type": "code",
   "execution_count": 28,
   "metadata": {},
   "outputs": [
    {
     "data": {
      "text/html": [
       "<div>\n",
       "<style scoped>\n",
       "    .dataframe tbody tr th:only-of-type {\n",
       "        vertical-align: middle;\n",
       "    }\n",
       "\n",
       "    .dataframe tbody tr th {\n",
       "        vertical-align: top;\n",
       "    }\n",
       "\n",
       "    .dataframe thead th {\n",
       "        text-align: right;\n",
       "    }\n",
       "</style>\n",
       "<table border=\"1\" class=\"dataframe\">\n",
       "  <thead>\n",
       "    <tr style=\"text-align: right;\">\n",
       "      <th></th>\n",
       "      <th>tweet_id</th>\n",
       "      <th>in_reply_to_status_id</th>\n",
       "      <th>in_reply_to_user_id</th>\n",
       "      <th>timestamp</th>\n",
       "      <th>source</th>\n",
       "      <th>text</th>\n",
       "      <th>retweeted_status_id</th>\n",
       "      <th>retweeted_status_user_id</th>\n",
       "      <th>retweeted_status_timestamp</th>\n",
       "      <th>expanded_urls</th>\n",
       "      <th>rating_numerator</th>\n",
       "      <th>rating_denominator</th>\n",
       "      <th>name</th>\n",
       "      <th>doggo</th>\n",
       "      <th>floofer</th>\n",
       "      <th>pupper</th>\n",
       "      <th>puppo</th>\n",
       "    </tr>\n",
       "  </thead>\n",
       "  <tbody>\n",
       "    <tr>\n",
       "      <th>433</th>\n",
       "      <td>820690176645140481</td>\n",
       "      <td>NaN</td>\n",
       "      <td>NaN</td>\n",
       "      <td>2017-01-15 17:52:40 +0000</td>\n",
       "      <td>&lt;a href=\"http://twitter.com/download/iphone\" rel=\"nofollow\"&gt;Twitter for iPhone&lt;/a&gt;</td>\n",
       "      <td>The floofs have been released I repeat the floofs have been released. 84/70 https://t.co/NIYC820tmd</td>\n",
       "      <td>NaN</td>\n",
       "      <td>NaN</td>\n",
       "      <td>NaN</td>\n",
       "      <td>https://twitter.com/dog_rates/status/820690176645140481/photo/1,https://twitter.com/dog_rates/status/820690176645140481/photo/1,https://twitter.com/dog_rates/status/820690176645140481/photo/1</td>\n",
       "      <td>84.0</td>\n",
       "      <td>70.0</td>\n",
       "      <td>None</td>\n",
       "      <td>None</td>\n",
       "      <td>None</td>\n",
       "      <td>None</td>\n",
       "      <td>None</td>\n",
       "    </tr>\n",
       "    <tr>\n",
       "      <th>902</th>\n",
       "      <td>758467244762497024</td>\n",
       "      <td>NaN</td>\n",
       "      <td>NaN</td>\n",
       "      <td>2016-07-28 01:00:57 +0000</td>\n",
       "      <td>&lt;a href=\"http://twitter.com/download/iphone\" rel=\"nofollow\"&gt;Twitter for iPhone&lt;/a&gt;</td>\n",
       "      <td>Why does this never happen at my front door... 165/150 https://t.co/HmwrdfEfUE</td>\n",
       "      <td>NaN</td>\n",
       "      <td>NaN</td>\n",
       "      <td>NaN</td>\n",
       "      <td>https://twitter.com/dog_rates/status/758467244762497024/video/1</td>\n",
       "      <td>165.0</td>\n",
       "      <td>150.0</td>\n",
       "      <td>None</td>\n",
       "      <td>None</td>\n",
       "      <td>None</td>\n",
       "      <td>None</td>\n",
       "      <td>None</td>\n",
       "    </tr>\n",
       "    <tr>\n",
       "      <th>1120</th>\n",
       "      <td>731156023742988288</td>\n",
       "      <td>NaN</td>\n",
       "      <td>NaN</td>\n",
       "      <td>2016-05-13 16:15:54 +0000</td>\n",
       "      <td>&lt;a href=\"http://twitter.com/download/iphone\" rel=\"nofollow\"&gt;Twitter for iPhone&lt;/a&gt;</td>\n",
       "      <td>Say hello to this unbelievably well behaved squad of doggos. 204/170 would try to pet all at once https://t.co/yGQI3He3xv</td>\n",
       "      <td>NaN</td>\n",
       "      <td>NaN</td>\n",
       "      <td>NaN</td>\n",
       "      <td>https://twitter.com/dog_rates/status/731156023742988288/photo/1</td>\n",
       "      <td>204.0</td>\n",
       "      <td>170.0</td>\n",
       "      <td>this</td>\n",
       "      <td>None</td>\n",
       "      <td>None</td>\n",
       "      <td>None</td>\n",
       "      <td>None</td>\n",
       "    </tr>\n",
       "    <tr>\n",
       "      <th>1228</th>\n",
       "      <td>713900603437621249</td>\n",
       "      <td>NaN</td>\n",
       "      <td>NaN</td>\n",
       "      <td>2016-03-27 01:29:02 +0000</td>\n",
       "      <td>&lt;a href=\"http://twitter.com/download/iphone\" rel=\"nofollow\"&gt;Twitter for iPhone&lt;/a&gt;</td>\n",
       "      <td>Happy Saturday here's 9 puppers on a bench. 99/90 good work everybody https://t.co/mpvaVxKmc1</td>\n",
       "      <td>NaN</td>\n",
       "      <td>NaN</td>\n",
       "      <td>NaN</td>\n",
       "      <td>https://twitter.com/dog_rates/status/713900603437621249/photo/1</td>\n",
       "      <td>99.0</td>\n",
       "      <td>90.0</td>\n",
       "      <td>None</td>\n",
       "      <td>None</td>\n",
       "      <td>None</td>\n",
       "      <td>None</td>\n",
       "      <td>None</td>\n",
       "    </tr>\n",
       "    <tr>\n",
       "      <th>1254</th>\n",
       "      <td>710658690886586372</td>\n",
       "      <td>NaN</td>\n",
       "      <td>NaN</td>\n",
       "      <td>2016-03-18 02:46:49 +0000</td>\n",
       "      <td>&lt;a href=\"http://twitter.com/download/iphone\" rel=\"nofollow\"&gt;Twitter for iPhone&lt;/a&gt;</td>\n",
       "      <td>Here's a brigade of puppers. All look very prepared for whatever happens next. 80/80 https://t.co/0eb7R1Om12</td>\n",
       "      <td>NaN</td>\n",
       "      <td>NaN</td>\n",
       "      <td>NaN</td>\n",
       "      <td>https://twitter.com/dog_rates/status/710658690886586372/photo/1</td>\n",
       "      <td>80.0</td>\n",
       "      <td>80.0</td>\n",
       "      <td>None</td>\n",
       "      <td>None</td>\n",
       "      <td>None</td>\n",
       "      <td>None</td>\n",
       "      <td>None</td>\n",
       "    </tr>\n",
       "    <tr>\n",
       "      <th>1274</th>\n",
       "      <td>709198395643068416</td>\n",
       "      <td>NaN</td>\n",
       "      <td>NaN</td>\n",
       "      <td>2016-03-14 02:04:08 +0000</td>\n",
       "      <td>&lt;a href=\"http://twitter.com/download/iphone\" rel=\"nofollow\"&gt;Twitter for iPhone&lt;/a&gt;</td>\n",
       "      <td>From left to right:\\nCletus, Jerome, Alejandro, Burp, &amp;amp; Titson\\nNone know where camera is. 45/50 would hug all at once https://t.co/sedre1ivTK</td>\n",
       "      <td>NaN</td>\n",
       "      <td>NaN</td>\n",
       "      <td>NaN</td>\n",
       "      <td>https://twitter.com/dog_rates/status/709198395643068416/photo/1</td>\n",
       "      <td>45.0</td>\n",
       "      <td>50.0</td>\n",
       "      <td>None</td>\n",
       "      <td>None</td>\n",
       "      <td>None</td>\n",
       "      <td>None</td>\n",
       "      <td>None</td>\n",
       "    </tr>\n",
       "    <tr>\n",
       "      <th>1351</th>\n",
       "      <td>704054845121142784</td>\n",
       "      <td>NaN</td>\n",
       "      <td>NaN</td>\n",
       "      <td>2016-02-28 21:25:30 +0000</td>\n",
       "      <td>&lt;a href=\"http://twitter.com/download/iphone\" rel=\"nofollow\"&gt;Twitter for iPhone&lt;/a&gt;</td>\n",
       "      <td>Here is a whole flock of puppers.  60/50 I'll take the lot https://t.co/9dpcw6MdWa</td>\n",
       "      <td>NaN</td>\n",
       "      <td>NaN</td>\n",
       "      <td>NaN</td>\n",
       "      <td>https://twitter.com/dog_rates/status/704054845121142784/photo/1</td>\n",
       "      <td>60.0</td>\n",
       "      <td>50.0</td>\n",
       "      <td>a</td>\n",
       "      <td>None</td>\n",
       "      <td>None</td>\n",
       "      <td>None</td>\n",
       "      <td>None</td>\n",
       "    </tr>\n",
       "    <tr>\n",
       "      <th>1433</th>\n",
       "      <td>697463031882764288</td>\n",
       "      <td>NaN</td>\n",
       "      <td>NaN</td>\n",
       "      <td>2016-02-10 16:51:59 +0000</td>\n",
       "      <td>&lt;a href=\"http://twitter.com/download/iphone\" rel=\"nofollow\"&gt;Twitter for iPhone&lt;/a&gt;</td>\n",
       "      <td>Happy Wednesday here's a bucket of pups. 44/40 would pet all at once https://t.co/HppvrYuamZ</td>\n",
       "      <td>NaN</td>\n",
       "      <td>NaN</td>\n",
       "      <td>NaN</td>\n",
       "      <td>https://twitter.com/dog_rates/status/697463031882764288/photo/1</td>\n",
       "      <td>44.0</td>\n",
       "      <td>40.0</td>\n",
       "      <td>None</td>\n",
       "      <td>None</td>\n",
       "      <td>None</td>\n",
       "      <td>None</td>\n",
       "      <td>None</td>\n",
       "    </tr>\n",
       "    <tr>\n",
       "      <th>1635</th>\n",
       "      <td>684222868335505415</td>\n",
       "      <td>NaN</td>\n",
       "      <td>NaN</td>\n",
       "      <td>2016-01-05 04:00:18 +0000</td>\n",
       "      <td>&lt;a href=\"http://twitter.com/download/iphone\" rel=\"nofollow\"&gt;Twitter for iPhone&lt;/a&gt;</td>\n",
       "      <td>Someone help the girl is being mugged. Several are distracting her while two steal her shoes. Clever puppers 121/110 https://t.co/1zfnTJLt55</td>\n",
       "      <td>NaN</td>\n",
       "      <td>NaN</td>\n",
       "      <td>NaN</td>\n",
       "      <td>https://twitter.com/dog_rates/status/684222868335505415/photo/1</td>\n",
       "      <td>121.0</td>\n",
       "      <td>110.0</td>\n",
       "      <td>None</td>\n",
       "      <td>None</td>\n",
       "      <td>None</td>\n",
       "      <td>None</td>\n",
       "      <td>None</td>\n",
       "    </tr>\n",
       "    <tr>\n",
       "      <th>1779</th>\n",
       "      <td>677716515794329600</td>\n",
       "      <td>NaN</td>\n",
       "      <td>NaN</td>\n",
       "      <td>2015-12-18 05:06:23 +0000</td>\n",
       "      <td>&lt;a href=\"http://twitter.com/download/iphone\" rel=\"nofollow\"&gt;Twitter for iPhone&lt;/a&gt;</td>\n",
       "      <td>IT'S PUPPERGEDDON. Total of 144/120 ...I think https://t.co/ZanVtAtvIq</td>\n",
       "      <td>NaN</td>\n",
       "      <td>NaN</td>\n",
       "      <td>NaN</td>\n",
       "      <td>https://twitter.com/dog_rates/status/677716515794329600/photo/1</td>\n",
       "      <td>144.0</td>\n",
       "      <td>120.0</td>\n",
       "      <td>None</td>\n",
       "      <td>None</td>\n",
       "      <td>None</td>\n",
       "      <td>None</td>\n",
       "      <td>None</td>\n",
       "    </tr>\n",
       "    <tr>\n",
       "      <th>1843</th>\n",
       "      <td>675853064436391936</td>\n",
       "      <td>NaN</td>\n",
       "      <td>NaN</td>\n",
       "      <td>2015-12-13 01:41:41 +0000</td>\n",
       "      <td>&lt;a href=\"http://twitter.com/download/iphone\" rel=\"nofollow\"&gt;Twitter for iPhone&lt;/a&gt;</td>\n",
       "      <td>Here we have an entire platoon of puppers. Total score: 88/80 would pet all at once https://t.co/y93p6FLvVw</td>\n",
       "      <td>NaN</td>\n",
       "      <td>NaN</td>\n",
       "      <td>NaN</td>\n",
       "      <td>https://twitter.com/dog_rates/status/675853064436391936/photo/1,https://twitter.com/dog_rates/status/675853064436391936/photo/1</td>\n",
       "      <td>88.0</td>\n",
       "      <td>80.0</td>\n",
       "      <td>None</td>\n",
       "      <td>None</td>\n",
       "      <td>None</td>\n",
       "      <td>None</td>\n",
       "      <td>None</td>\n",
       "    </tr>\n",
       "  </tbody>\n",
       "</table>\n",
       "</div>"
      ],
      "text/plain": [
       "                tweet_id  in_reply_to_status_id  in_reply_to_user_id  \\\n",
       "433   820690176645140481 NaN                    NaN                    \n",
       "902   758467244762497024 NaN                    NaN                    \n",
       "1120  731156023742988288 NaN                    NaN                    \n",
       "1228  713900603437621249 NaN                    NaN                    \n",
       "1254  710658690886586372 NaN                    NaN                    \n",
       "1274  709198395643068416 NaN                    NaN                    \n",
       "1351  704054845121142784 NaN                    NaN                    \n",
       "1433  697463031882764288 NaN                    NaN                    \n",
       "1635  684222868335505415 NaN                    NaN                    \n",
       "1779  677716515794329600 NaN                    NaN                    \n",
       "1843  675853064436391936 NaN                    NaN                    \n",
       "\n",
       "                      timestamp  \\\n",
       "433   2017-01-15 17:52:40 +0000   \n",
       "902   2016-07-28 01:00:57 +0000   \n",
       "1120  2016-05-13 16:15:54 +0000   \n",
       "1228  2016-03-27 01:29:02 +0000   \n",
       "1254  2016-03-18 02:46:49 +0000   \n",
       "1274  2016-03-14 02:04:08 +0000   \n",
       "1351  2016-02-28 21:25:30 +0000   \n",
       "1433  2016-02-10 16:51:59 +0000   \n",
       "1635  2016-01-05 04:00:18 +0000   \n",
       "1779  2015-12-18 05:06:23 +0000   \n",
       "1843  2015-12-13 01:41:41 +0000   \n",
       "\n",
       "                                                                                  source  \\\n",
       "433   <a href=\"http://twitter.com/download/iphone\" rel=\"nofollow\">Twitter for iPhone</a>   \n",
       "902   <a href=\"http://twitter.com/download/iphone\" rel=\"nofollow\">Twitter for iPhone</a>   \n",
       "1120  <a href=\"http://twitter.com/download/iphone\" rel=\"nofollow\">Twitter for iPhone</a>   \n",
       "1228  <a href=\"http://twitter.com/download/iphone\" rel=\"nofollow\">Twitter for iPhone</a>   \n",
       "1254  <a href=\"http://twitter.com/download/iphone\" rel=\"nofollow\">Twitter for iPhone</a>   \n",
       "1274  <a href=\"http://twitter.com/download/iphone\" rel=\"nofollow\">Twitter for iPhone</a>   \n",
       "1351  <a href=\"http://twitter.com/download/iphone\" rel=\"nofollow\">Twitter for iPhone</a>   \n",
       "1433  <a href=\"http://twitter.com/download/iphone\" rel=\"nofollow\">Twitter for iPhone</a>   \n",
       "1635  <a href=\"http://twitter.com/download/iphone\" rel=\"nofollow\">Twitter for iPhone</a>   \n",
       "1779  <a href=\"http://twitter.com/download/iphone\" rel=\"nofollow\">Twitter for iPhone</a>   \n",
       "1843  <a href=\"http://twitter.com/download/iphone\" rel=\"nofollow\">Twitter for iPhone</a>   \n",
       "\n",
       "                                                                                                                                                    text  \\\n",
       "433   The floofs have been released I repeat the floofs have been released. 84/70 https://t.co/NIYC820tmd                                                  \n",
       "902   Why does this never happen at my front door... 165/150 https://t.co/HmwrdfEfUE                                                                       \n",
       "1120  Say hello to this unbelievably well behaved squad of doggos. 204/170 would try to pet all at once https://t.co/yGQI3He3xv                            \n",
       "1228  Happy Saturday here's 9 puppers on a bench. 99/90 good work everybody https://t.co/mpvaVxKmc1                                                        \n",
       "1254  Here's a brigade of puppers. All look very prepared for whatever happens next. 80/80 https://t.co/0eb7R1Om12                                         \n",
       "1274  From left to right:\\nCletus, Jerome, Alejandro, Burp, &amp; Titson\\nNone know where camera is. 45/50 would hug all at once https://t.co/sedre1ivTK   \n",
       "1351  Here is a whole flock of puppers.  60/50 I'll take the lot https://t.co/9dpcw6MdWa                                                                   \n",
       "1433  Happy Wednesday here's a bucket of pups. 44/40 would pet all at once https://t.co/HppvrYuamZ                                                         \n",
       "1635  Someone help the girl is being mugged. Several are distracting her while two steal her shoes. Clever puppers 121/110 https://t.co/1zfnTJLt55         \n",
       "1779  IT'S PUPPERGEDDON. Total of 144/120 ...I think https://t.co/ZanVtAtvIq                                                                               \n",
       "1843  Here we have an entire platoon of puppers. Total score: 88/80 would pet all at once https://t.co/y93p6FLvVw                                          \n",
       "\n",
       "      retweeted_status_id  retweeted_status_user_id  \\\n",
       "433  NaN                  NaN                         \n",
       "902  NaN                  NaN                         \n",
       "1120 NaN                  NaN                         \n",
       "1228 NaN                  NaN                         \n",
       "1254 NaN                  NaN                         \n",
       "1274 NaN                  NaN                         \n",
       "1351 NaN                  NaN                         \n",
       "1433 NaN                  NaN                         \n",
       "1635 NaN                  NaN                         \n",
       "1779 NaN                  NaN                         \n",
       "1843 NaN                  NaN                         \n",
       "\n",
       "      retweeted_status_timestamp  \\\n",
       "433  NaN                           \n",
       "902  NaN                           \n",
       "1120 NaN                           \n",
       "1228 NaN                           \n",
       "1254 NaN                           \n",
       "1274 NaN                           \n",
       "1351 NaN                           \n",
       "1433 NaN                           \n",
       "1635 NaN                           \n",
       "1779 NaN                           \n",
       "1843 NaN                           \n",
       "\n",
       "                                                                                                                                                                                        expanded_urls  \\\n",
       "433   https://twitter.com/dog_rates/status/820690176645140481/photo/1,https://twitter.com/dog_rates/status/820690176645140481/photo/1,https://twitter.com/dog_rates/status/820690176645140481/photo/1   \n",
       "902   https://twitter.com/dog_rates/status/758467244762497024/video/1                                                                                                                                   \n",
       "1120  https://twitter.com/dog_rates/status/731156023742988288/photo/1                                                                                                                                   \n",
       "1228  https://twitter.com/dog_rates/status/713900603437621249/photo/1                                                                                                                                   \n",
       "1254  https://twitter.com/dog_rates/status/710658690886586372/photo/1                                                                                                                                   \n",
       "1274  https://twitter.com/dog_rates/status/709198395643068416/photo/1                                                                                                                                   \n",
       "1351  https://twitter.com/dog_rates/status/704054845121142784/photo/1                                                                                                                                   \n",
       "1433  https://twitter.com/dog_rates/status/697463031882764288/photo/1                                                                                                                                   \n",
       "1635  https://twitter.com/dog_rates/status/684222868335505415/photo/1                                                                                                                                   \n",
       "1779  https://twitter.com/dog_rates/status/677716515794329600/photo/1                                                                                                                                   \n",
       "1843  https://twitter.com/dog_rates/status/675853064436391936/photo/1,https://twitter.com/dog_rates/status/675853064436391936/photo/1                                                                   \n",
       "\n",
       "      rating_numerator  rating_denominator  name doggo floofer pupper puppo  \n",
       "433   84.0              70.0                None  None  None    None   None  \n",
       "902   165.0             150.0               None  None  None    None   None  \n",
       "1120  204.0             170.0               this  None  None    None   None  \n",
       "1228  99.0              90.0                None  None  None    None   None  \n",
       "1254  80.0              80.0                None  None  None    None   None  \n",
       "1274  45.0              50.0                None  None  None    None   None  \n",
       "1351  60.0              50.0                a     None  None    None   None  \n",
       "1433  44.0              40.0                None  None  None    None   None  \n",
       "1635  121.0             110.0               None  None  None    None   None  \n",
       "1779  144.0             120.0               None  None  None    None   None  \n",
       "1843  88.0              80.0                None  None  None    None   None  "
      ]
     },
     "execution_count": 28,
     "metadata": {},
     "output_type": "execute_result"
    }
   ],
   "source": [
    "clean_dog_tweets[clean_dog_tweets.text.str.find('/10') == -1]"
   ]
  },
  {
   "cell_type": "markdown",
   "metadata": {},
   "source": [
    "#### 6. Tweet IDs are stored as integers, however we are not using them for any numerical calculations, so they should be strings."
   ]
  },
  {
   "cell_type": "markdown",
   "metadata": {},
   "source": [
    "__*Define solution*:__\n",
    "\n",
    "We should update the dataframe type of Tweet IDs to reflect strings."
   ]
  },
  {
   "cell_type": "markdown",
   "metadata": {},
   "source": [
    "__*Code for fixing*__:"
   ]
  },
  {
   "cell_type": "code",
   "execution_count": 29,
   "metadata": {},
   "outputs": [],
   "source": [
    "# converting IDs type to strings\n",
    "clean_dog_tweets.tweet_id = clean_dog_tweets.tweet_id.astype(str)"
   ]
  },
  {
   "cell_type": "markdown",
   "metadata": {},
   "source": [
    "__*Testing for results*__:"
   ]
  },
  {
   "cell_type": "code",
   "execution_count": 30,
   "metadata": {},
   "outputs": [
    {
     "name": "stdout",
     "output_type": "stream",
     "text": [
      "object\n"
     ]
    }
   ],
   "source": [
    "print(clean_dog_tweets.tweet_id.dtype)"
   ]
  },
  {
   "cell_type": "markdown",
   "metadata": {},
   "source": [
    "#### 7. Timestamps are in a string, hard-to-manipulate format"
   ]
  },
  {
   "cell_type": "markdown",
   "metadata": {},
   "source": [
    "__*Define solution*:__\n",
    "\n",
    "The Pandas function `to_datetime()` can be used to properly store dates to `datetime64` objects, for easy manipulation."
   ]
  },
  {
   "cell_type": "markdown",
   "metadata": {},
   "source": [
    "__*Code for fixing*__:"
   ]
  },
  {
   "cell_type": "code",
   "execution_count": 31,
   "metadata": {},
   "outputs": [],
   "source": [
    "clean_dog_tweets.timestamp = pd.to_datetime(clean_dog_tweets.timestamp)"
   ]
  },
  {
   "cell_type": "markdown",
   "metadata": {},
   "source": [
    "__*Testing for results*__:"
   ]
  },
  {
   "cell_type": "code",
   "execution_count": 32,
   "metadata": {},
   "outputs": [
    {
     "name": "stdout",
     "output_type": "stream",
     "text": [
      "datetime64[ns]\n"
     ]
    }
   ],
   "source": [
    "print(clean_dog_tweets.timestamp.dtype)"
   ]
  },
  {
   "cell_type": "markdown",
   "metadata": {},
   "source": [
    "#### 8. Some columns regarding retweeted or replied tweets should not be present in the final master dataset, since we should not have any retweets or replies in it"
   ]
  },
  {
   "cell_type": "markdown",
   "metadata": {},
   "source": [
    "__*Define solution*:__\n",
    "\n",
    "Since we have tested that our dataset does not contain any more retweets or reply entries, it is efficient to drop the columns that previously helped us in finding such entries."
   ]
  },
  {
   "cell_type": "markdown",
   "metadata": {},
   "source": [
    "__*Code for fixing*__:"
   ]
  },
  {
   "cell_type": "code",
   "execution_count": 33,
   "metadata": {},
   "outputs": [],
   "source": [
    "# drop unnecessary\n",
    "clean_dog_tweets.drop(columns = ['retweeted_status_id', 'retweeted_status_user_id', 'in_reply_to_status_id', \n",
    "                                 'in_reply_to_user_id', 'retweeted_status_timestamp'], inplace = True)"
   ]
  },
  {
   "cell_type": "markdown",
   "metadata": {},
   "source": [
    "__*Testing for results*__:"
   ]
  },
  {
   "cell_type": "code",
   "execution_count": 34,
   "metadata": {},
   "outputs": [
    {
     "name": "stdout",
     "output_type": "stream",
     "text": [
      "['tweet_id', 'timestamp', 'source', 'text', 'expanded_urls', 'rating_numerator', 'rating_denominator', 'name', 'doggo', 'floofer', 'pupper', 'puppo']\n"
     ]
    }
   ],
   "source": [
    "print(list(clean_dog_tweets.columns))"
   ]
  },
  {
   "cell_type": "markdown",
   "metadata": {},
   "source": [
    "#### 9. NaN values in 'doggo', 'floofer', 'pupper' and 'puppo' are represented as 'None' strings"
   ]
  },
  {
   "cell_type": "markdown",
   "metadata": {},
   "source": [
    "__*Define solution*:__\n",
    "\n",
    "We can replace 'None' string values in any of these four columns with NaN."
   ]
  },
  {
   "cell_type": "markdown",
   "metadata": {},
   "source": [
    "__*Code for fixing*__:"
   ]
  },
  {
   "cell_type": "code",
   "execution_count": 35,
   "metadata": {},
   "outputs": [],
   "source": [
    "clean_dog_tweets.doggo = clean_dog_tweets.doggo.apply(lambda entry: pd.np.nan if entry == 'None' else entry)\n",
    "clean_dog_tweets.floofer = clean_dog_tweets.floofer.apply(lambda entry: pd.np.nan if entry == 'None' else entry)\n",
    "clean_dog_tweets.pupper = clean_dog_tweets.pupper.apply(lambda entry: pd.np.nan if entry == 'None' else entry)\n",
    "clean_dog_tweets.puppo = clean_dog_tweets.puppo.apply(lambda entry: pd.np.nan if entry == 'None' else entry)"
   ]
  },
  {
   "cell_type": "markdown",
   "metadata": {},
   "source": [
    "__*Testing for results*__:"
   ]
  },
  {
   "cell_type": "code",
   "execution_count": 36,
   "metadata": {},
   "outputs": [
    {
     "data": {
      "text/html": [
       "<div>\n",
       "<style scoped>\n",
       "    .dataframe tbody tr th:only-of-type {\n",
       "        vertical-align: middle;\n",
       "    }\n",
       "\n",
       "    .dataframe tbody tr th {\n",
       "        vertical-align: top;\n",
       "    }\n",
       "\n",
       "    .dataframe thead th {\n",
       "        text-align: right;\n",
       "    }\n",
       "</style>\n",
       "<table border=\"1\" class=\"dataframe\">\n",
       "  <thead>\n",
       "    <tr style=\"text-align: right;\">\n",
       "      <th></th>\n",
       "      <th>doggo</th>\n",
       "      <th>floofer</th>\n",
       "      <th>pupper</th>\n",
       "      <th>puppo</th>\n",
       "    </tr>\n",
       "  </thead>\n",
       "  <tbody>\n",
       "    <tr>\n",
       "      <th>0</th>\n",
       "      <td>NaN</td>\n",
       "      <td>NaN</td>\n",
       "      <td>NaN</td>\n",
       "      <td>NaN</td>\n",
       "    </tr>\n",
       "    <tr>\n",
       "      <th>1</th>\n",
       "      <td>NaN</td>\n",
       "      <td>NaN</td>\n",
       "      <td>NaN</td>\n",
       "      <td>NaN</td>\n",
       "    </tr>\n",
       "    <tr>\n",
       "      <th>2</th>\n",
       "      <td>NaN</td>\n",
       "      <td>NaN</td>\n",
       "      <td>NaN</td>\n",
       "      <td>NaN</td>\n",
       "    </tr>\n",
       "    <tr>\n",
       "      <th>3</th>\n",
       "      <td>NaN</td>\n",
       "      <td>NaN</td>\n",
       "      <td>NaN</td>\n",
       "      <td>NaN</td>\n",
       "    </tr>\n",
       "    <tr>\n",
       "      <th>4</th>\n",
       "      <td>NaN</td>\n",
       "      <td>NaN</td>\n",
       "      <td>NaN</td>\n",
       "      <td>NaN</td>\n",
       "    </tr>\n",
       "    <tr>\n",
       "      <th>5</th>\n",
       "      <td>NaN</td>\n",
       "      <td>NaN</td>\n",
       "      <td>NaN</td>\n",
       "      <td>NaN</td>\n",
       "    </tr>\n",
       "    <tr>\n",
       "      <th>6</th>\n",
       "      <td>NaN</td>\n",
       "      <td>NaN</td>\n",
       "      <td>NaN</td>\n",
       "      <td>NaN</td>\n",
       "    </tr>\n",
       "    <tr>\n",
       "      <th>7</th>\n",
       "      <td>NaN</td>\n",
       "      <td>NaN</td>\n",
       "      <td>NaN</td>\n",
       "      <td>NaN</td>\n",
       "    </tr>\n",
       "    <tr>\n",
       "      <th>8</th>\n",
       "      <td>NaN</td>\n",
       "      <td>NaN</td>\n",
       "      <td>NaN</td>\n",
       "      <td>NaN</td>\n",
       "    </tr>\n",
       "    <tr>\n",
       "      <th>9</th>\n",
       "      <td>doggo</td>\n",
       "      <td>NaN</td>\n",
       "      <td>NaN</td>\n",
       "      <td>NaN</td>\n",
       "    </tr>\n",
       "    <tr>\n",
       "      <th>10</th>\n",
       "      <td>NaN</td>\n",
       "      <td>NaN</td>\n",
       "      <td>NaN</td>\n",
       "      <td>NaN</td>\n",
       "    </tr>\n",
       "    <tr>\n",
       "      <th>11</th>\n",
       "      <td>NaN</td>\n",
       "      <td>NaN</td>\n",
       "      <td>NaN</td>\n",
       "      <td>NaN</td>\n",
       "    </tr>\n",
       "    <tr>\n",
       "      <th>12</th>\n",
       "      <td>NaN</td>\n",
       "      <td>NaN</td>\n",
       "      <td>NaN</td>\n",
       "      <td>puppo</td>\n",
       "    </tr>\n",
       "    <tr>\n",
       "      <th>13</th>\n",
       "      <td>NaN</td>\n",
       "      <td>NaN</td>\n",
       "      <td>NaN</td>\n",
       "      <td>NaN</td>\n",
       "    </tr>\n",
       "    <tr>\n",
       "      <th>14</th>\n",
       "      <td>NaN</td>\n",
       "      <td>NaN</td>\n",
       "      <td>NaN</td>\n",
       "      <td>puppo</td>\n",
       "    </tr>\n",
       "  </tbody>\n",
       "</table>\n",
       "</div>"
      ],
      "text/plain": [
       "    doggo floofer pupper  puppo\n",
       "0   NaN    NaN     NaN    NaN  \n",
       "1   NaN    NaN     NaN    NaN  \n",
       "2   NaN    NaN     NaN    NaN  \n",
       "3   NaN    NaN     NaN    NaN  \n",
       "4   NaN    NaN     NaN    NaN  \n",
       "5   NaN    NaN     NaN    NaN  \n",
       "6   NaN    NaN     NaN    NaN  \n",
       "7   NaN    NaN     NaN    NaN  \n",
       "8   NaN    NaN     NaN    NaN  \n",
       "9   doggo  NaN     NaN    NaN  \n",
       "10  NaN    NaN     NaN    NaN  \n",
       "11  NaN    NaN     NaN    NaN  \n",
       "12  NaN    NaN     NaN    puppo\n",
       "13  NaN    NaN     NaN    NaN  \n",
       "14  NaN    NaN     NaN    puppo"
      ]
     },
     "execution_count": 36,
     "metadata": {},
     "output_type": "execute_result"
    }
   ],
   "source": [
    "clean_dog_tweets[['doggo', 'floofer', 'pupper', 'puppo']].head(15)"
   ]
  },
  {
   "cell_type": "markdown",
   "metadata": {},
   "source": [
    "#### 10. Tweet text also contains links to the original post"
   ]
  },
  {
   "cell_type": "markdown",
   "metadata": {},
   "source": [
    "__*Define solution*:__\n",
    "\n",
    "We can remove the links in the string by splitting the string into _text part_ and _link part_, and only saving the first part."
   ]
  },
  {
   "cell_type": "markdown",
   "metadata": {},
   "source": [
    "__*Code for fixing*__:"
   ]
  },
  {
   "cell_type": "code",
   "execution_count": 37,
   "metadata": {},
   "outputs": [],
   "source": [
    "clean_dog_tweets.text = clean_dog_tweets.text.apply(lambda text: text.split('http')[0])"
   ]
  },
  {
   "cell_type": "markdown",
   "metadata": {},
   "source": [
    "__*Testing for results*__:"
   ]
  },
  {
   "cell_type": "code",
   "execution_count": 38,
   "metadata": {
    "scrolled": false
   },
   "outputs": [
    {
     "name": "stdout",
     "output_type": "stream",
     "text": [
      "This is Lola. It's her first time outside. Must test the earth and taste the atmosphere. 13/10 you're doing great Lola \n",
      "\n",
      "Here is a pupper approaching maximum borkdrive. Zooming at never before seen speeds. 14/10 paw-inspiring af \n",
      "(IG: puffie_the_chow) \n",
      "\n",
      "Here we have a majestic great white breaching off South Africa's coast. Absolutely h*ckin breathtaking. 13/10 (IG: tucker_marlo) #BarkWeek \n",
      "\n",
      "Here is a pupper approaching maximum borkdrive. Zooming at never before seen speeds. 14/10 paw-inspiring af \n",
      "(IG: puffie_the_chow) \n",
      "\n",
      "This is Oliver. You're witnessing one of his many brutal attacks. Seems to be playing with his victim. 13/10 fr*ckin frightening #BarkWeek \n",
      "\n"
     ]
    }
   ],
   "source": [
    "# generate 5 random examples of text, in order to check whether the links are indeed removed from the main text\n",
    "for i in np.arange(0, 5):\n",
    "    rand_nr = np.random.randint(0, 100 + 1)\n",
    "    \n",
    "    # we need to specify a try-except block here, since if our random number happens to be an index of a previously-removed \n",
    "    # retweet or reply, it will return an error\n",
    "    try:\n",
    "        print(clean_dog_tweets.text[rand_nr])\n",
    "        print()\n",
    "    except:\n",
    "        continue"
   ]
  },
  {
   "cell_type": "markdown",
   "metadata": {},
   "source": [
    "#### b. Cleaning of *`image_predictions_df`* dataset: "
   ]
  },
  {
   "cell_type": "markdown",
   "metadata": {},
   "source": [
    "#### 11. Predicted dog race names may small without capital letter"
   ]
  },
  {
   "cell_type": "markdown",
   "metadata": {},
   "source": [
    "__*Define solution*:__\n",
    "\n",
    "We need to capitalize the first letter of each dog race string."
   ]
  },
  {
   "cell_type": "markdown",
   "metadata": {},
   "source": [
    "__*Code for fixing*__:"
   ]
  },
  {
   "cell_type": "code",
   "execution_count": 39,
   "metadata": {},
   "outputs": [],
   "source": [
    "# Capitalize the first letter of each dog race field\n",
    "clean_image_predictions.p1 = clean_image_predictions.p1.str.title()\n",
    "clean_image_predictions.p2 = clean_image_predictions.p2.str.title()\n",
    "clean_image_predictions.p3 = clean_image_predictions.p3.str.title()"
   ]
  },
  {
   "cell_type": "markdown",
   "metadata": {},
   "source": [
    "__*Testing for results*__:"
   ]
  },
  {
   "cell_type": "code",
   "execution_count": 40,
   "metadata": {},
   "outputs": [
    {
     "name": "stdout",
     "output_type": "stream",
     "text": [
      "0    Welsh_Springer_Spaniel\n",
      "1    Redbone               \n",
      "Name: p1, dtype: object\n",
      "\n",
      "0    Collie            \n",
      "1    Miniature_Pinscher\n",
      "Name: p2, dtype: object\n",
      "\n",
      "0    Shetland_Sheepdog  \n",
      "1    Rhodesian_Ridgeback\n",
      "Name: p3, dtype: object\n"
     ]
    }
   ],
   "source": [
    "print(clean_image_predictions.p1.head(2))\n",
    "print()\n",
    "print(clean_image_predictions.p2.head(2))\n",
    "print()\n",
    "print(clean_image_predictions.p3.head(2))"
   ]
  },
  {
   "cell_type": "markdown",
   "metadata": {},
   "source": [
    "#### 12. Sometimes, spaces between predicted dog race words is represented by an underscore (_)"
   ]
  },
  {
   "cell_type": "markdown",
   "metadata": {},
   "source": [
    "__*Define solution*:__\n",
    "\n",
    "We can replace the underscore character (_) with a whitespace, since we know there should never be an underscore in that field."
   ]
  },
  {
   "cell_type": "markdown",
   "metadata": {},
   "source": [
    "__*Code for fixing*__:"
   ]
  },
  {
   "cell_type": "code",
   "execution_count": 41,
   "metadata": {},
   "outputs": [],
   "source": [
    "# Replace underscores in string with whitespace characters\n",
    "clean_image_predictions.p1 = clean_image_predictions.p1.str.replace('_', ' ')\n",
    "clean_image_predictions.p2 = clean_image_predictions.p2.str.replace('_', ' ')\n",
    "clean_image_predictions.p3 = clean_image_predictions.p3.str.replace('_', ' ')"
   ]
  },
  {
   "cell_type": "markdown",
   "metadata": {},
   "source": [
    "__*Testing for results*__:"
   ]
  },
  {
   "cell_type": "code",
   "execution_count": 42,
   "metadata": {},
   "outputs": [
    {
     "name": "stdout",
     "output_type": "stream",
     "text": [
      "0    Welsh Springer Spaniel\n",
      "1    Redbone               \n",
      "Name: p1, dtype: object\n",
      "\n",
      "0    Collie            \n",
      "1    Miniature Pinscher\n",
      "Name: p2, dtype: object\n",
      "\n",
      "0    Shetland Sheepdog  \n",
      "1    Rhodesian Ridgeback\n",
      "Name: p3, dtype: object\n"
     ]
    }
   ],
   "source": [
    "print(clean_image_predictions.p1.head(2))\n",
    "print()\n",
    "print(clean_image_predictions.p2.head(2))\n",
    "print()\n",
    "print(clean_image_predictions.p3.head(2))"
   ]
  },
  {
   "cell_type": "markdown",
   "metadata": {},
   "source": [
    "#### 13. Tweet IDs are once again stored as integers"
   ]
  },
  {
   "cell_type": "markdown",
   "metadata": {},
   "source": [
    "__*Define solution*:__\n",
    "\n",
    "We should update the dataframe type of Tweet IDs to reflect strings."
   ]
  },
  {
   "cell_type": "markdown",
   "metadata": {},
   "source": [
    "__*Code for fixing*__:"
   ]
  },
  {
   "cell_type": "code",
   "execution_count": 43,
   "metadata": {},
   "outputs": [],
   "source": [
    "# converting IDs type to strings\n",
    "clean_image_predictions.tweet_id = clean_image_predictions.tweet_id.astype(str)"
   ]
  },
  {
   "cell_type": "markdown",
   "metadata": {},
   "source": [
    "__*Testing for results*__:"
   ]
  },
  {
   "cell_type": "code",
   "execution_count": 44,
   "metadata": {
    "scrolled": true
   },
   "outputs": [
    {
     "name": "stdout",
     "output_type": "stream",
     "text": [
      "object\n"
     ]
    }
   ],
   "source": [
    "print(clean_image_predictions.tweet_id.dtype)"
   ]
  },
  {
   "cell_type": "markdown",
   "metadata": {},
   "source": [
    "### Fixing Data Tidiness errors:"
   ]
  },
  {
   "cell_type": "markdown",
   "metadata": {},
   "source": [
    "#### 14. The four columns from the Twitter master dataset: 'doggo', 'floofer', 'pupper' and 'puppo', are all potential values for a common variable: dog stages. A dog may have multiple dog stages associated, case in which we will record as 'multiple'"
   ]
  },
  {
   "cell_type": "markdown",
   "metadata": {},
   "source": [
    "__*Define solution*:__\n",
    "\n",
    "We need to appropriately __*melt*__ the four columns for dog stages into one, resulting in each Twitter dog entry having either 'multiple' dog stages, or one of the possible 4 dog stage values, or None if the dog entry does not have any stage."
   ]
  },
  {
   "cell_type": "markdown",
   "metadata": {},
   "source": [
    "__*Code for fixing*__:"
   ]
  },
  {
   "cell_type": "code",
   "execution_count": 45,
   "metadata": {},
   "outputs": [],
   "source": [
    "def write_dog_stage(entry):\n",
    "    total_nr_of_stages = entry[['doggo', 'floofer', 'pupper', 'puppo']].count().sum()\n",
    "    \n",
    "    if (total_nr_of_stages > 1):\n",
    "        return 'Multiple'\n",
    "    else:\n",
    "        if (entry.doggo == entry.doggo):\n",
    "            return 'Doggo'\n",
    "        elif (entry.floofer == entry.floofer):\n",
    "            return 'Floofer'\n",
    "        elif (entry.pupper == entry.pupper):\n",
    "            return 'Pupper'\n",
    "        elif (entry.puppo == entry.puppo):\n",
    "            return 'Puppo'\n",
    "    return pd.np.nan\n",
    "\n",
    "clean_dog_tweets['dog_stage'] = clean_dog_tweets.apply(lambda row: write_dog_stage(row), axis = 1)"
   ]
  },
  {
   "cell_type": "code",
   "execution_count": 46,
   "metadata": {},
   "outputs": [],
   "source": [
    "clean_dog_tweets = clean_dog_tweets.drop(columns = ['doggo', 'floofer', 'pupper', 'puppo'])"
   ]
  },
  {
   "cell_type": "markdown",
   "metadata": {},
   "source": [
    "__*Testing for results*__:"
   ]
  },
  {
   "cell_type": "code",
   "execution_count": 47,
   "metadata": {},
   "outputs": [
    {
     "data": {
      "text/plain": [
       "Pupper      221\n",
       "Doggo       72 \n",
       "Puppo       23 \n",
       "Multiple    11 \n",
       "Floofer     9  \n",
       "Name: dog_stage, dtype: int64"
      ]
     },
     "execution_count": 47,
     "metadata": {},
     "output_type": "execute_result"
    }
   ],
   "source": [
    "clean_dog_tweets.dog_stage.value_counts()"
   ]
  },
  {
   "cell_type": "markdown",
   "metadata": {},
   "source": [
    "#### 15. The JSON-extracted dataset containing retweet counts and favorite counts for different dog IDs, as well as the image predictions for each dog tweet, are both representing variables in separate dataframes for the same observational object as the Twitter master dataset, namely the dog tweets"
   ]
  },
  {
   "cell_type": "markdown",
   "metadata": {},
   "source": [
    "__*Define solution*:__\n",
    "\n",
    "In order to have all the representational data about the dog tweet entries in one place, we will join together the `clean_dog_tweets` with the `image_predictions` and the `clean_tweet_data_json` datasets."
   ]
  },
  {
   "cell_type": "markdown",
   "metadata": {},
   "source": [
    "__*Code for fixing*__:"
   ]
  },
  {
   "cell_type": "code",
   "execution_count": 48,
   "metadata": {},
   "outputs": [],
   "source": [
    "# Merge dog_tweets and image_predictions on tweet ID\n",
    "clean_dog_tweets = pd.merge(clean_dog_tweets, clean_image_predictions, how = 'inner', on = 'tweet_id')\n",
    "# Merge the newly-updated dog_tweets and tweet_data_json on tweet ID\n",
    "clean_dog_tweets = pd.merge(clean_dog_tweets, clean_tweet_data_json, how = 'inner', on = 'tweet_id')"
   ]
  },
  {
   "cell_type": "markdown",
   "metadata": {},
   "source": [
    "__*Testing for results*__:"
   ]
  },
  {
   "cell_type": "code",
   "execution_count": 49,
   "metadata": {},
   "outputs": [
    {
     "data": {
      "text/plain": [
       "tweet_id              892420643555336193                                                                    \n",
       "timestamp             2017-08-01 16:23:56                                                                   \n",
       "source                <a href=\"http://twitter.com/download/iphone\" rel=\"nofollow\">Twitter for iPhone</a>    \n",
       "text                  This is Phineas. He's a mystical boy. Only ever appears in the hole of a donut. 13/10 \n",
       "expanded_urls         https://twitter.com/dog_rates/status/892420643555336193/photo/1                       \n",
       "rating_numerator      13                                                                                    \n",
       "rating_denominator    10                                                                                    \n",
       "name                  Phineas                                                                               \n",
       "dog_stage             NaN                                                                                   \n",
       "jpg_url               https://pbs.twimg.com/media/DGKD1-bXoAAIAUK.jpg                                       \n",
       "img_num               1                                                                                     \n",
       "p1                    Orange                                                                                \n",
       "p1_conf               0.0970486                                                                             \n",
       "p1_dog                False                                                                                 \n",
       "p2                    Bagel                                                                                 \n",
       "p2_conf               0.0858511                                                                             \n",
       "p2_dog                False                                                                                 \n",
       "p3                    Banana                                                                                \n",
       "p3_conf               0.07611                                                                               \n",
       "p3_dog                False                                                                                 \n",
       "nr_of_retweets        8853                                                                                  \n",
       "nr_of_favorites       39467                                                                                 \n",
       "Name: 0, dtype: object"
      ]
     },
     "execution_count": 49,
     "metadata": {},
     "output_type": "execute_result"
    }
   ],
   "source": [
    "clean_dog_tweets.head().iloc[0]"
   ]
  },
  {
   "cell_type": "markdown",
   "metadata": {},
   "source": [
    "#### Final step:\n",
    "\n",
    "Since our Twitter master dataset variables needed for our analysis are now cleaned, the last steps in the data wrangling process would be to remove the unnecessary columns, which have also been left unwrangled, and save our dataset to local storage for further processing and archiving."
   ]
  },
  {
   "cell_type": "code",
   "execution_count": 50,
   "metadata": {},
   "outputs": [],
   "source": [
    "clean_dog_tweets.drop(columns = ['source', 'expanded_urls'], inplace = True)"
   ]
  },
  {
   "cell_type": "markdown",
   "metadata": {},
   "source": [
    "<a id='data-storing'></a>\n",
    "### Data Storing"
   ]
  },
  {
   "cell_type": "markdown",
   "metadata": {},
   "source": [
    "Now that we have computed all the modification steps upon our datasets, it is good practice to save our results for further easier reloading and processing of its contents. It helps machines performing the analysis in avoiding to redo the entire computational process to clean the data (in some cases), and it certainly helps in sharing and distribution of data across teams and groups."
   ]
  },
  {
   "cell_type": "code",
   "execution_count": 51,
   "metadata": {},
   "outputs": [],
   "source": [
    "clean_dog_tweets.to_csv('twitter_archive_master.csv', index = False) # Storing the master dataset to CSV\n",
    "\n",
    "if (os.path.exists('udacity_data_wrangling.db') == False): # For additional storage, we will save the dataframes as tables in a SQL database\n",
    "    sql_engine = sqlalchemy.create_engine('sqlite:///udacity_data_wrangling.db')\n",
    "    clean_dog_tweets.to_sql('twitter_archive_master_table', sql_engine, index = False)"
   ]
  },
  {
   "cell_type": "markdown",
   "metadata": {},
   "source": [
    "---\n",
    "<a id='data-analysis'></a>\n",
    "## Analysis and Visualisation of Data\n",
    "\n",
    "Now that our data has been gathered from the right sources, assessed, and cleaned for all variables of interest, it is possible to make reliable analysis insights, based on three different questions/leads, as we present below. "
   ]
  },
  {
   "cell_type": "markdown",
   "metadata": {},
   "source": [
    "<a id='viz-1'></a>\n",
    "### Visualisation 1\n",
    "\n",
    "First, since WeRateDogs is known for its unique dog ratings which often surpass the default scoring scale, we are interested in seeing which ratings (numerators) have been most popular across the entire set of tweets:"
   ]
  },
  {
   "cell_type": "code",
   "execution_count": 52,
   "metadata": {},
   "outputs": [],
   "source": [
    "ratings = clean_dog_tweets.rating_numerator.value_counts().index[0:5]\n",
    "rating_counts = clean_dog_tweets.rating_numerator.value_counts().values[0:5]"
   ]
  },
  {
   "cell_type": "code",
   "execution_count": 53,
   "metadata": {},
   "outputs": [
    {
     "data": {
      "image/png": "[encoded data removed]",
      "text/plain": [
       "<Figure size 432x288 with 1 Axes>"
      ]
     },
     "metadata": {
      "needs_background": "light"
     },
     "output_type": "display_data"
    }
   ],
   "source": [
    "sb.barplot(x = ratings, y = rating_counts, order = ratings, color = sb.color_palette()[9]);\n",
    "\n",
    "plt.xlabel('Most common WeRateDogs ratings');\n",
    "plt.ylabel('Frequency of ratings');\n",
    "plt.title('Frequency count for the 5 most common dog ratings given');"
   ]
  },
  {
   "cell_type": "markdown",
   "metadata": {},
   "source": [
    "### Data Insight 1:\n",
    "\n",
    "The most common ratings given by WeRateDogs are **_12/10_** and **_10/10_**, followed by **_11/10_**, **_13/10_** and **_9/10_**. Their recorded number of apparitions in the dataset can be seen from the graph above."
   ]
  },
  {
   "cell_type": "markdown",
   "metadata": {},
   "source": [
    "---\n",
    "<a id='viz-2'></a>\n",
    "### Visualisation 2\n",
    "\n",
    "Next, since we know that not all rates dogs have been attributed a dog stage, we would like to find out the distribution of dog stages across our master dataset."
   ]
  },
  {
   "cell_type": "code",
   "execution_count": 54,
   "metadata": {},
   "outputs": [],
   "source": [
    "# extraction of dog stage names\n",
    "stages = clean_dog_tweets.dog_stage.value_counts().index\n",
    "# extraction of dog stage counts\n",
    "stage_counts = clean_dog_tweets.dog_stage.value_counts().values\n",
    "\n",
    "stage_count_total = clean_dog_tweets.dog_stage.value_counts().values.sum()"
   ]
  },
  {
   "cell_type": "code",
   "execution_count": 55,
   "metadata": {},
   "outputs": [
    {
     "data": {
      "text/plain": [
       "Pupper      0.663366\n",
       "Doggo       0.207921\n",
       "Puppo       0.072607\n",
       "Multiple    0.033003\n",
       "Floofer     0.023102\n",
       "Name: dog_stage, dtype: float64"
      ]
     },
     "execution_count": 55,
     "metadata": {},
     "output_type": "execute_result"
    }
   ],
   "source": [
    "clean_dog_tweets.dog_stage.value_counts(1)"
   ]
  },
  {
   "cell_type": "code",
   "execution_count": 56,
   "metadata": {},
   "outputs": [
    {
     "data": {
      "image/png": "[encoded data removed]",
      "text/plain": [
       "<Figure size 432x288 with 1 Axes>"
      ]
     },
     "metadata": {
      "needs_background": "light"
     },
     "output_type": "display_data"
    }
   ],
   "source": [
    "sb.barplot(x = (stage_counts / stage_count_total), y = stages, order = stages, color = sb.color_palette()[3]);\n",
    "\n",
    "plt.title('Relative distribution of dog types');\n",
    "plt.xlabel('Frequency percentage (out of total of 1)');\n",
    "plt.ylabel('Dog stage types');\n",
    "\n",
    "# set the x-label ticks correspondingly, to show 10% units increase every time, until 100%\n",
    "plt.xticks(np.arange(0, 1 + 0.1, 0.1));"
   ]
  },
  {
   "cell_type": "markdown",
   "metadata": {},
   "source": [
    "### Data Insight 2:\n",
    "\n",
    "It can be seen from the graph above that most dogs in our dataset, for which a dog type has been recorded, are of type **_pupper_**, which account for 66.3% of the total distribution. **_Doggo_** is next in line, accounting for 20.8% of the total distribution, while **_puppo_** and **_floofer_** follow afterwards, with lower percentages. 3.3% of the dogs with some recorded dog type are actually registered with **_multiple_** dog types."
   ]
  },
  {
   "cell_type": "markdown",
   "metadata": {},
   "source": [
    "---\n",
    "<a id='viz-3'></a>\n",
    "### Visualisation 3\n",
    "\n",
    "For our final insight, we are interested in investigating which _three_ **named** dogs have received most retweets and, separately, which _three_ **named** dogs received most favorites. Afterwards, we will extract the actual posted picture of the winner for each category using the image URL found in the `dog_tweets` dataset. (_Notice that dogs with higher retweet or favorite count, but for which we don't know their names will not be considered_)"
   ]
  },
  {
   "cell_type": "code",
   "execution_count": 57,
   "metadata": {},
   "outputs": [],
   "source": [
    "# construct new temporary dataframe, sorted after retweet count\n",
    "retweet_highest_df = clean_dog_tweets[['tweet_id', 'name', 'nr_of_retweets']].sort_values(by = 'nr_of_retweets', ascending = False)\n",
    "# drop all dog entries without any known name\n",
    "retweet_highest_df.drop(index = retweet_highest_df[retweet_highest_df.name == 'None'].index, inplace = True)\n",
    "\n",
    "# perform analysis on the top 3 most popular entries\n",
    "retweet_highest_count = retweet_highest_df.nr_of_retweets[:3].values\n",
    "retweet_highest_names = retweet_highest_df.name[:3].values\n",
    "\n",
    "# the mean value is needed for horizontal line of reference\n",
    "retweet_mean = clean_dog_tweets.nr_of_retweets.mean()"
   ]
  },
  {
   "cell_type": "code",
   "execution_count": 58,
   "metadata": {},
   "outputs": [],
   "source": [
    "# construct new temporary dataframe, sorted after favorite count\n",
    "favorite_highest_df = clean_dog_tweets[['tweet_id', 'name', 'nr_of_favorites']].sort_values(by = 'nr_of_favorites', ascending = False)\n",
    "# drop all dog entries without any known name\n",
    "favorite_highest_df.drop(index = favorite_highest_df[favorite_highest_df.name == 'None'].index, inplace = True)\n",
    "\n",
    "# perform analysis on the top 3 most popular entries\n",
    "favorite_highest_count = favorite_highest_df.nr_of_favorites[:3].values\n",
    "favorite_highest_names = favorite_highest_df.name[:3].values\n",
    "\n",
    "# the mean value is needed for horizontal line of reference\n",
    "favorite_mean = clean_dog_tweets.nr_of_favorites.mean()"
   ]
  },
  {
   "cell_type": "code",
   "execution_count": 59,
   "metadata": {
    "scrolled": false
   },
   "outputs": [
    {
     "data": {
      "image/png": "[encoded data removed]",
      "text/plain": [
       "<Figure size 864x360 with 2 Axes>"
      ]
     },
     "metadata": {
      "needs_background": "light"
     },
     "output_type": "display_data"
    }
   ],
   "source": [
    "plt.figure(figsize = [12, 5])\n",
    "plt.subplots_adjust(wspace = 0.85) # adjust spacing between subplots\n",
    "\n",
    "plt.subplot(1, 2, 1);\n",
    "ax = sb.barplot(x = retweet_highest_names, y = retweet_highest_count, color = sb.color_palette()[0]);\n",
    "\n",
    "plt.xlabel('Dog entries - Most retweeted');\n",
    "plt.ylabel('Retweet count');\n",
    "plt.title('Top 3 most retweeted named dogs');\n",
    "\n",
    "plt.axhline(retweet_mean, linestyle = '--', color = 'black'); # plot a line of reference to what would be average amount of retweets\n",
    "ax.text(0, 0.0425, 'Average nr. of retweets  ', horizontalalignment='right', transform = ax.transAxes);\n",
    "\n",
    "plt.subplot(1, 2, 2);\n",
    "ax = sb.barplot(x = favorite_highest_names, y = favorite_highest_count, color = sb.color_palette()[1]);\n",
    "\n",
    "plt.xlabel('Dog entries - Most favorited');\n",
    "plt.ylabel('Favorites count');\n",
    "plt.title('Top 3 most favorited named dogs');\n",
    "\n",
    "plt.axhline(favorite_mean, linestyle = '--', color = 'black'); # plot a line of reference to what would be average amount of favorites\n",
    "ax.text(0, 0.07, 'Average nr. of favorites  ', horizontalalignment='right', transform = ax.transAxes);"
   ]
  },
  {
   "cell_type": "markdown",
   "metadata": {},
   "source": [
    "From here, we will discover the JPG URLs of each of the winners and embed them into `img src` HTML tags within the Jupyter Notebook, for presentation purposes. \n",
    "\n",
    "The following snippet of code prints the JPG URL needed for copying into the notebook:"
   ]
  },
  {
   "cell_type": "code",
   "execution_count": 60,
   "metadata": {
    "scrolled": false
   },
   "outputs": [
    {
     "name": "stdout",
     "output_type": "stream",
     "text": [
      "396    https://pbs.twimg.com/ext_tw_video_thumb/807106774843039744/pu/img/8XZg1xW35Xp2J6JW.jpg\n",
      "Name: jpg_url, dtype: object\n",
      "58    https://pbs.twimg.com/ext_tw_video_thumb/879415784908390401/pu/img/cX7XI1TnUsseGET5.jpg\n",
      "Name: jpg_url, dtype: object\n",
      "330    https://pbs.twimg.com/media/C12whDoVEAALRxa.jpg\n",
      "Name: jpg_url, dtype: object\n",
      "\n",
      "58    https://pbs.twimg.com/ext_tw_video_thumb/879415784908390401/pu/img/cX7XI1TnUsseGET5.jpg\n",
      "Name: jpg_url, dtype: object\n",
      "396    https://pbs.twimg.com/ext_tw_video_thumb/807106774843039744/pu/img/8XZg1xW35Xp2J6JW.jpg\n",
      "Name: jpg_url, dtype: object\n",
      "108    https://pbs.twimg.com/media/DAZAUfBXcAAG_Nn.jpg\n",
      "Name: jpg_url, dtype: object\n"
     ]
    }
   ],
   "source": [
    "# Snippet needed for printing out and embedding the direct URL of the entry winners' images\n",
    "\n",
    "print(clean_dog_tweets[clean_dog_tweets.tweet_id == '807106840509214720'].jpg_url)\n",
    "print(clean_dog_tweets[clean_dog_tweets.tweet_id == '879415818425184262'].jpg_url)\n",
    "print(clean_dog_tweets[clean_dog_tweets.tweet_id == '819004803107983360'].jpg_url)\n",
    "\n",
    "print()\n",
    "\n",
    "print(clean_dog_tweets[clean_dog_tweets.tweet_id == '879415818425184262'].jpg_url)\n",
    "print(clean_dog_tweets[clean_dog_tweets.tweet_id == '807106840509214720'].jpg_url)\n",
    "print(clean_dog_tweets[clean_dog_tweets.tweet_id == '866450705531457537'].jpg_url)"
   ]
  },
  {
   "cell_type": "markdown",
   "metadata": {},
   "source": [
    "### Data Insight 3: \n",
    "_Here we have the popularity champions from this dataset:_\n",
    "\n",
    "- _For the 'retweet' rankings, we have:_\n",
    "    - #### _1st place, Stephan, with 56625 retweets:_\n",
    "<br>\n",
    "<img src=\"https://pbs.twimg.com/ext_tw_video_thumb/807106774843039744/pu/img/8XZg1xW35Xp2J6JW.jpg\" style=\"width:35%\">\n",
    "<br>\n",
    "    - #### _2nd place, Duddles, with 45849 retweets:_\n",
    "<br>\n",
    "<img src=\"https://pbs.twimg.com/ext_tw_video_thumb/879415784908390401/pu/img/cX7XI1TnUsseGET5.jpg\" style=\"width:50%\">\n",
    "<br>\n",
    "    - #### _3rd place, Bo, with 42228 retweets:_\n",
    "<br>\n",
    "<img src=\"https://pbs.twimg.com/media/C12whDoVEAALRxa.jpg\" style=\"width:35%\">\n",
    "<br>\n",
    "\n",
    "- _For the 'favorites' rankings, we have:_\n",
    "    - #### _1st place, Duddles, with 107956 favorites:_\n",
    "<br>\n",
    "<img src=\"https://pbs.twimg.com/ext_tw_video_thumb/879415784908390401/pu/img/cX7XI1TnUsseGET5.jpg\" style=\"width:50%\">\n",
    "<br>\n",
    "    - #### _2nd place, Stephan, with 107015 favorites:_\n",
    "<br>\n",
    "<img src=\"https://pbs.twimg.com/ext_tw_video_thumb/807106774843039744/pu/img/8XZg1xW35Xp2J6JW.jpg\" style=\"width:35%\">\n",
    "<br>\n",
    "    - #### _3rd place, Jamesy, with 106827 favorites:_\n",
    "<br>\n",
    "<img src=\"https://pbs.twimg.com/media/DAZAUfBXcAAG_Nn.jpg\" style=\"width:50%\">"
   ]
  },
  {
   "cell_type": "markdown",
   "metadata": {},
   "source": [
    "---\n",
    "<a id='conclusion'></a>\n",
    "## Conclusion:\n",
    "\n",
    "_We have analysed a dataset recollecting dog ratings from the famous Twitter reviewer WeRateDogs. Before analysis was possible, the data needed for insight finding was unclean and scattered throughout multiple sources. Therefore, the basis of this project has been the completion of a thorough Data Wrangling process, going through all the needed steps of data gathering, assessment and cleaning._\n",
    "\n",
    "- _First, we have extracted the necessary data from multiple file formats, stored both locally and online. Some variables however, such as retweet and favorite count, could not be found in the files at hand, so they needed to be scraped directly from the Twitter web servers using their provided APIs. Unfortunately, the Tweeter database is constantly adding and deleting new information, and in the case of WeRateDogs, any posting after October 2017 is no longer available for scraping. Since our data contains all tweets up until August 2017, we had to rely on loading the necessary data from a file archive provided by the course instructor._\n",
    "\n",
    "\n",
    "- _After the gathering process was completed, we had to assess our data, visually and programmatically, in order to understand its representation in our dataframes, and identify any data quality or tidiness errors which can affect our analysis. The datasets have been analysed, one-by-one, using functions from the Pandas library, and 15 issues were documented throughout the process. It should be mentioned that this list of issues is not exhaustive, but it consists of the necessary issues related to our variables of interest._\n",
    "\n",
    "\n",
    "- _The data cleaning process itself was always divided into three steps, for each of the issues involved: first, a solution to the error was described, after which the necessary coding was written, and lastly, we would create appropriate tests to verify whether the error is no longer present._\n",
    "\n",
    "\n",
    "- _At the end of data cleaning, the result was more easily-processable and error-free datasets. Considering this, it is helpful to store these modified datasets locally, so that their processing does not need to be reiterated. The datasets were stored both in CSV formats and in a SQL database as tables._\n",
    "\n",
    "_Lastly, analysis has been performed upon the cleaned datasets, and we were able to discover which ratings were most frequently given to the dogs in our dataset, what the distribution of dog types was over our dataset, and figure out the winners of popularity in terms of retweet counts and favorite counts._"
   ]
  }
 ],
 "metadata": {
  "kernelspec": {
   "display_name": "Python [default]",
   "language": "python",
   "name": "python3"
  },
  "language_info": {
   "codemirror_mode": {
    "name": "ipython",
    "version": 3
   },
   "file_extension": ".py",
   "mimetype": "text/x-python",
   "name": "python",
   "nbconvert_exporter": "python",
   "pygments_lexer": "ipython3",
   "version": "3.6.6"
  }
 },
 "nbformat": 4,
 "nbformat_minor": 2
}
